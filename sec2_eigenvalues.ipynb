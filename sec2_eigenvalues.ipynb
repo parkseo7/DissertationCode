{
 "cells": [
  {
   "cell_type": "markdown",
   "metadata": {},
   "source": [
    "# About\n",
    "\n",
    "A script to generate the eigenvalue plots pertaining to the persistent entrainment subsection in section 2 of the thesis. To obtain data files, export them from 'sec2_eigenvalues.mat'."
   ]
  },
  {
   "cell_type": "markdown",
   "metadata": {},
   "source": [
    "# Library"
   ]
  },
  {
   "cell_type": "code",
   "execution_count": 1,
   "metadata": {},
   "outputs": [],
   "source": [
    "from __future__ import division, print_function\n",
    "\n",
    "%matplotlib inline\n",
    "# Toggle on/off\n",
    "# %matplotlib notebook\n",
    "\n",
    "import os\n",
    "import numpy as np\n",
    "import scipy.io as sio\n",
    "from scipy import optimize\n",
    "from scipy import special\n",
    "import matplotlib.pyplot as plt\n",
    "from mpl_toolkits.mplot3d import Axes3D\n",
    "import matplotlib.transforms as tsfm\n",
    "import math\n",
    "from math import pi\n",
    "\n",
    "from lib import *\n",
    "\n",
    "from IPython.display import clear_output"
   ]
  },
  {
   "cell_type": "markdown",
   "metadata": {},
   "source": [
    "# Directories"
   ]
  },
  {
   "cell_type": "code",
   "execution_count": 2,
   "metadata": {},
   "outputs": [],
   "source": [
    "# Data files from Matlab\n",
    "import_folder = 'sec2_eigenvalues'\n",
    "import_file = 'eigs1.mat'\n",
    "\n",
    "# Directory\n",
    "dir_main = os.getcwd()\n",
    "dir_im = os.path.join(dir_main, 'matlab', 'data', import_folder, import_file)"
   ]
  },
  {
   "cell_type": "markdown",
   "metadata": {},
   "source": [
    "# Import and compile data"
   ]
  },
  {
   "cell_type": "code",
   "execution_count": 3,
   "metadata": {},
   "outputs": [],
   "source": [
    "dict_im = sio.loadmat(dir_im)\n",
    "\n",
    "# Parameters\n",
    "g = dict_im['g'][0,0]\n",
    "tau = dict_im['tau'][0,0]\n",
    "D_plot = np.reshape(dict_im['Dplot'], -1)\n",
    "R_plot = np.reshape(dict_im['Rplot'], -1)\n",
    "u0_plot = np.reshape(dict_im['u0plot'], -1)\n",
    "D_arr = np.reshape(dict_im['D_arr'], -1)\n",
    "R_arr = np.reshape(dict_im['R_arr'], -1)\n",
    "eigs = dict_im['eigenvalues']"
   ]
  },
  {
   "cell_type": "markdown",
   "metadata": {},
   "source": [
    "## Approximate loss of stability point"
   ]
  },
  {
   "cell_type": "code",
   "execution_count": 4,
   "metadata": {},
   "outputs": [],
   "source": [
    "D_est = 0.21\n",
    "D_ind = np.argmin(np.abs(D_est - D_arr))\n",
    "R_est = R_arr[D_ind]"
   ]
  },
  {
   "cell_type": "markdown",
   "metadata": {},
   "source": [
    "# Figure\n",
    "\n",
    "Eigenvalue plots"
   ]
  },
  {
   "cell_type": "markdown",
   "metadata": {},
   "source": [
    "## Options"
   ]
  },
  {
   "cell_type": "code",
   "execution_count": 5,
   "metadata": {},
   "outputs": [],
   "source": [
    "# Plot positions [left, bottom, width, height]\n",
    "bbox0 = [0.05, 0.05, 0.30, 0.90] # Left (solution)\n",
    "bbox1 = [0.45, 0.55, 0.20, 0.40]  # Right (Eigenvalues A top left)\n",
    "bbox2 = [0.75, 0.55, 0.20, 0.40] # Right (Eigenvalues B top right)\n",
    "bbox3 = [0.45, 0.05, 0.20, 0.40] # Right (Eigenvalues C bottom left)\n",
    "bbox4 = [0.75, 0.05, 0.20, 0.40]  # Right (Eigenvalues D bottom right)\n",
    "\n",
    "# Colours\n",
    "colcurve = 'red'\n",
    "colmark = 'black'\n",
    "\n",
    "# Alphas\n",
    "alpha1 = 0.9\n",
    "\n",
    "# Marker size\n",
    "ms1 = 18"
   ]
  },
  {
   "cell_type": "markdown",
   "metadata": {},
   "source": [
    "## Generate figure"
   ]
  },
  {
   "cell_type": "code",
   "execution_count": 19,
   "metadata": {},
   "outputs": [
    {
     "data": {
      "text/plain": [
       "(-2.0, -0.43981449428672137)"
      ]
     },
     "execution_count": 19,
     "metadata": {},
     "output_type": "execute_result"
    },
    {
     "data": {
      "image/png": "[encoded data removed]",
      "text/plain": [
       "<Figure size 960x480 with 5 Axes>"
      ]
     },
     "metadata": {},
     "output_type": "display_data"
    }
   ],
   "source": [
    "fig, ax = plt.subplots(5, figsize=(12,6), dpi=80)\n",
    "\n",
    "# Set positions\n",
    "ax[0].set_position(bbox0)\n",
    "ax[1].set_position(bbox1)\n",
    "ax[2].set_position(bbox2)\n",
    "ax[3].set_position(bbox3)\n",
    "ax[4].set_position(bbox4)\n",
    "\n",
    "ax[0].plot(D_arr, R_arr, color='red', zorder=1)\n",
    "ax[0].scatter(D_plot, R_plot, color='black', zorder=2)\n",
    "ax[0].axhline(y=R_est, xmax=0.42, color='blue', linestyle='dashed', zorder=1)\n",
    "\n",
    "# Plot eigenvalues\n",
    "for i in range(eigs.shape[0]):\n",
    "    ax[i+1].scatter(1000*eigs[i].real, 1000*eigs[i].imag, s=ms1, color='black', zorder=2)\n",
    "    ax[i+1].axhline(y=0, color='black', linewidth=0.8, zorder=0)\n",
    "    ax[i+1].axvline(x=0, color='red', linewidth=0.8, zorder=0)\n",
    "\n",
    "# Edit plots\n",
    "ax[0].set_xlim(left=0, right=0.5)\n",
    "ax[0].set_ylim(bottom=-2.00)"
   ]
  },
  {
   "cell_type": "code",
   "execution_count": 7,
   "metadata": {},
   "outputs": [
    {
     "data": {
      "text/plain": [
       "array([0.12, 0.2 , 0.24, 0.4 ])"
      ]
     },
     "execution_count": 7,
     "metadata": {},
     "output_type": "execute_result"
    }
   ],
   "source": [
    "D_plot"
   ]
  },
  {
   "cell_type": "code",
   "execution_count": null,
   "metadata": {},
   "outputs": [],
   "source": []
  }
 ],
 "metadata": {
  "kernelspec": {
   "display_name": "Python 3",
   "language": "python",
   "name": "python3"
  },
  "language_info": {
   "codemirror_mode": {
    "name": "ipython",
    "version": 3
   },
   "file_extension": ".py",
   "mimetype": "text/x-python",
   "name": "python",
   "nbconvert_exporter": "python",
   "pygments_lexer": "ipython3",
   "version": "3.6.5"
  }
 },
 "nbformat": 4,
 "nbformat_minor": 2
}

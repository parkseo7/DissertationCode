{
 "cells": [
  {
   "cell_type": "markdown",
   "metadata": {},
   "source": [
    "# About\n",
    "\n",
    "Script to generate plots regarding the stability around the incoherent state, with the single delay and exponential delay case.\n",
    "Refer to 'sec3_incoherent_exp.mat' for the script to import data on the exponential delay case."
   ]
  },
  {
   "cell_type": "markdown",
   "metadata": {},
   "source": [
    "# Library"
   ]
  },
  {
   "cell_type": "code",
   "execution_count": 1,
   "metadata": {},
   "outputs": [],
   "source": [
    "from __future__ import division, print_function\n",
    "\n",
    "%matplotlib inline\n",
    "# Toggle on/off\n",
    "# %matplotlib notebook\n",
    "\n",
    "import os\n",
    "import numpy as np\n",
    "import scipy.io as sio\n",
    "from scipy import optimize\n",
    "import matplotlib.pyplot as plt\n",
    "from mpl_toolkits.mplot3d import Axes3D\n",
    "import matplotlib.transforms as tsfm\n",
    "import math\n",
    "from math import pi\n",
    "\n",
    "from lib import *\n",
    "\n",
    "from IPython.display import clear_output"
   ]
  },
  {
   "cell_type": "markdown",
   "metadata": {},
   "source": [
    "# Directories"
   ]
  },
  {
   "cell_type": "code",
   "execution_count": 2,
   "metadata": {},
   "outputs": [],
   "source": [
    "# Data files from Matlab\n",
    "import_folder = 'sec3_incoherent'\n",
    "\n",
    "# Directory\n",
    "dir_main = os.getcwd()\n",
    "dir_im = os.path.join(dir_main, 'matlab', 'data', import_folder)\n",
    "dir_file = os.path.join(dir_im, 'incoherent_exp.mat')"
   ]
  },
  {
   "cell_type": "markdown",
   "metadata": {},
   "source": [
    "# Single-delay arrays"
   ]
  },
  {
   "cell_type": "code",
   "execution_count": 3,
   "metadata": {},
   "outputs": [],
   "source": [
    "# Parameters\n",
    "w0 = 1.0\n",
    "\n",
    "# Arrays\n",
    "tau0_arr = np.array([])\n",
    "g_arr = np.array([])\n",
    "\n",
    "k_list = np.arange(0, 4, 1)\n",
    "num_steps = 500\n",
    "\n",
    "for k in k_list:\n",
    "    L_k = (4*k + 1)*pi / 2\n",
    "    M_k = (2*k+1)*pi\n",
    "    U_k = (4*k + 3)*pi / 2\n",
    "    tau0_arrk1 = np.linspace(L_k, M_k, num=num_steps) / w0\n",
    "    tau0_arrk2 = np.linspace(M_k, U_k, num=num_steps) / w0\n",
    "    \n",
    "    g_arrk1 = w0 - L_k / tau0_arrk1\n",
    "    g_arrk2 = U_k / tau0_arrk2 - w0\n",
    "    \n",
    "    tau0_arr = np.concatenate((tau0_arr, tau0_arrk1, tau0_arrk2))\n",
    "    g_arr = np.concatenate((g_arr, g_arrk1, g_arrk2))"
   ]
  },
  {
   "cell_type": "markdown",
   "metadata": {},
   "source": [
    "# Exponential-delay arrays"
   ]
  },
  {
   "cell_type": "code",
   "execution_count": 4,
   "metadata": {},
   "outputs": [],
   "source": [
    "dict_mat = sio.loadmat(dir_file)\n",
    "\n",
    "# Arrays\n",
    "taum_arr = np.reshape(dict_mat['taum'], -1)\n",
    "re_min_arr = np.reshape(dict_mat['min_real'], -1)\n",
    "re_max_arr = np.reshape(dict_mat['max_real'], -1)\n",
    "\n",
    "slog = lambda z: np.sign(z)*np.log10(1 + np.abs(z))"
   ]
  },
  {
   "cell_type": "markdown",
   "metadata": {},
   "source": [
    "# Options"
   ]
  },
  {
   "cell_type": "code",
   "execution_count": 5,
   "metadata": {},
   "outputs": [],
   "source": [
    "# Plot positions [left, bottom, width, height]\n",
    "bbox0 = [0.1, 0.1, 0.4, 0.9] # Left (Asy. Omega heat map)\n",
    "bbox1 = [0.6, 0.1, 0.4, 0.9] # Right (Asy. Omega colour legend)"
   ]
  },
  {
   "cell_type": "markdown",
   "metadata": {},
   "source": [
    "# Figure"
   ]
  },
  {
   "cell_type": "code",
   "execution_count": 6,
   "metadata": {},
   "outputs": [
    {
     "data": {
      "text/plain": [
       "(-0.488988988988989, 9.98998998998999)"
      ]
     },
     "execution_count": 6,
     "metadata": {},
     "output_type": "execute_result"
    },
    {
     "data": {
      "image/png": "[encoded data removed]",
      "text/plain": [
       "<Figure size 960x320 with 2 Axes>"
      ]
     },
     "metadata": {},
     "output_type": "display_data"
    }
   ],
   "source": [
    "fig, ax = plt.subplots(2, figsize=(12,4), dpi=80)\n",
    "\n",
    "# Set positions\n",
    "ax[0].set_position(bbox0)\n",
    "ax[1].set_position(bbox1)\n",
    "\n",
    "# Plot\n",
    "ax[0].plot(tau0_arr, 2*g_arr, color='blue')\n",
    "ax[0].plot(tau0_arr, g_arr, color='red')\n",
    "\n",
    "ax[1].plot(taum_arr, slog(re_min_arr), color='green')\n",
    "ax[1].plot(taum_arr, slog(re_max_arr), color='red')\n",
    "\n",
    "# Fill\n",
    "ax[0].fill(tau0_arr, 2*g_arr, color='blue', alpha=0.3)\n",
    "ax[0].fill(tau0_arr, g_arr, color='red', alpha=0.3)\n",
    "\n",
    "# Axis lines\n",
    "ax[1].axhline(y=0, linewidth=0.5, color='black', zorder=0)\n",
    "ax[1].axvline(x=0, linewidth=0.5, color='black', zorder=0)\n",
    "\n",
    "# Set limits\n",
    "ax[0].set_ylim(bottom=0, top=1.6)\n",
    "ax[1].set_xlim(right=np.max(taum_arr))\n",
    "# ax[1].set_xlim(left=0, right=np.max(taum_arr))"
   ]
  },
  {
   "cell_type": "raw",
   "metadata": {},
   "source": []
  }
 ],
 "metadata": {
  "kernelspec": {
   "display_name": "Python 3",
   "language": "python",
   "name": "python3"
  },
  "language_info": {
   "codemirror_mode": {
    "name": "ipython",
    "version": 3
   },
   "file_extension": ".py",
   "mimetype": "text/x-python",
   "name": "python",
   "nbconvert_exporter": "python",
   "pygments_lexer": "ipython3",
   "version": "3.6.5"
  }
 },
 "nbformat": 4,
 "nbformat_minor": 2
}

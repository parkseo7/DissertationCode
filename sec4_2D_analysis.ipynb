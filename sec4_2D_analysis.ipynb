{
 "cells": [
  {
   "cell_type": "markdown",
   "metadata": {},
   "source": [
    "# About\n",
    "\n",
    "This script generates the theoretical plots for the analysis in the 2-dim Kuramoto system with adaptive delays.\n",
    "To find the synchronization frequency and phase difference, we have the following equation for $\\Omega$:\n",
    "$$\\mathcal{R}_\\kappa(\\Omega) := \\Omega -\\omega_0 - g \\sin \\left(-\\Omega \\left(\\tau^0 + \\kappa\\left( \\frac{\\omega_0 - \\Omega}{g} \\right) \\right) + \\arcsin \\left( \\frac{\\omega_0 - \\Omega}{g} \\right) \\right)$$\n",
    "and the corresponding positive phase difference $\\Delta = \\phi_2 - \\phi_1$ and delays at equilibrium is given by\n",
    "\n",
    "$$ \\Delta = \\arcsin \\left( \\frac{\\omega_0 - \\Omega}{g} \\right) > 0 $$\n",
    "$$ \\tau^E = \\tau^0 + \\kappa \\sin(\\Delta_{12})$$\n",
    "\n",
    "The set of eigenvalues $\\lambda \\in \\mathbb{C}$ pertaining to the synchronized state is given by the transcendental equation $P(\\lambda) + Q(\\lambda)e^{-\\lambda\\tau^E} = 0$, where the polynomials $P(\\lambda), Q(\\lambda)$ are\n",
    "\\begin{align*}\n",
    "P(\\lambda) &= \\lambda^3 + (1 + C_{12} + C_{21}) \\lambda^2 + (\\tilde{\\kappa}C_{12} + (1 + C_{12})C_{21})\\lambda + C_{12}C_{21} \\\\\n",
    "Q(\\lambda) &= -C_{12}C_{21}(\\lambda+1)\n",
    "\\end{align*}\n",
    "\n",
    "where $\\tilde{\\kappa} = 1 - \\Omega\\kappa C_0$, $C_0 = \\cos(\\Delta)$, $C_{12} = g\\cos(-\\Omega\\tau^E + \\Delta)$, $C_{21} = g\\cos(\\Delta)$. MATLAB is used to solve the eigenvalue distributions given by the equation above, and provides the parameters used. The error mesh is imported here in order to create the plots. The MATLAB script is found in 'sec4_2D_analysis.mat'"
   ]
  },
  {
   "cell_type": "markdown",
   "metadata": {},
   "source": [
    "# Library"
   ]
  },
  {
   "cell_type": "code",
   "execution_count": 1,
   "metadata": {},
   "outputs": [],
   "source": [
    "from __future__ import division, print_function\n",
    "\n",
    "%matplotlib inline\n",
    "# Toggle on/off\n",
    "# %matplotlib notebook\n",
    "\n",
    "import os\n",
    "import numpy as np\n",
    "import scipy.io as sio\n",
    "from scipy import optimize\n",
    "import matplotlib.pyplot as plt\n",
    "from mpl_toolkits.mplot3d import Axes3D\n",
    "import matplotlib.transforms as tsfm\n",
    "import math\n",
    "from math import pi\n",
    "\n",
    "from lib import *\n",
    "\n",
    "from IPython.display import clear_output"
   ]
  },
  {
   "cell_type": "markdown",
   "metadata": {},
   "source": [
    "# Directories"
   ]
  },
  {
   "cell_type": "code",
   "execution_count": 2,
   "metadata": {},
   "outputs": [],
   "source": [
    "# Data files from Matlab\n",
    "import_folder = 'sec4_2D_analysis'\n",
    "\n",
    "# Directory\n",
    "dir_main = os.getcwd()\n",
    "dir_im = os.path.join(dir_main, 'matlab', 'data', import_folder)\n",
    "\n",
    "dir_sync = os.path.join(dir_im, 'sync_freqs.mat')"
   ]
  },
  {
   "cell_type": "markdown",
   "metadata": {},
   "source": [
    "# Import and process files"
   ]
  },
  {
   "cell_type": "code",
   "execution_count": 3,
   "metadata": {},
   "outputs": [],
   "source": [
    "# SYNC STATES\n",
    "dict_sync = sio.loadmat(dir_sync)\n",
    "\n",
    "# Import parameters\n",
    "g = dict_sync['g'][0,0]\n",
    "w0 = dict_sync['omega0'][0,0]\n",
    "tau0 = dict_sync['tau0'][0,0]\n",
    "gain = dict_sync['gain'][0,0]\n",
    "\n",
    "parameters = {'g': g, 'omega0': w0, 'tau0': tau0, 'gain': gain}\n",
    "\n",
    "# Import arrays\n",
    "Omega_arr0 = dict_sync['Omega_arr']\n",
    "err_arr = dict_sync['error_arr']\n",
    "\n",
    "# Sync states and phase differences\n",
    "Omegas = dict_sync['Omegas']\n",
    "Deltas = dict_sync['Deltas']\n",
    "Omega_errs = dict_sync['error']"
   ]
  },
  {
   "cell_type": "markdown",
   "metadata": {},
   "source": [
    "# Synchronous states\n",
    "\n",
    "Plot synchronous states with increasing gain."
   ]
  },
  {
   "cell_type": "code",
   "execution_count": 4,
   "metadata": {},
   "outputs": [],
   "source": [
    "# Fixed-point functions\n",
    "Omega_fun0 = lambda Omega: Omega - w0 + g*np.sin(Omega*tau0)\n",
    "Omega_fun1 = funlib.Omega2D({'g': g, 'omega0': w0, 'tau0': tau0, 'gain': gain/2})\n",
    "Omega_fun2 = funlib.Omega2D({'g': g, 'omega0': w0, 'tau0': tau0, 'gain': gain})\n",
    "\n",
    "# Generate arrays with increasing gain\n",
    "Omega_arr = np.linspace(w0 - g, w0 + g, num=1000)\n",
    "err_arr0 = Omega_fun0(Omega_arr)\n",
    "err_arr1 = Omega_fun1(Omega_arr)\n",
    "err_arr2 = Omega_fun2(Omega_arr)"
   ]
  },
  {
   "cell_type": "markdown",
   "metadata": {},
   "source": [
    "## Acquire eigenvalue data"
   ]
  },
  {
   "cell_type": "code",
   "execution_count": 5,
   "metadata": {},
   "outputs": [
    {
     "name": "stderr",
     "output_type": "stream",
     "text": [
      "C:\\Users\\Daniel\\Anaconda3\\lib\\site-packages\\ipykernel_launcher.py:55: RuntimeWarning: invalid value encountered in greater\n"
     ]
    }
   ],
   "source": [
    "# Filenames\n",
    "filenames = os.listdir(dir_im)\n",
    "filenames.remove('sync_freqs.mat')\n",
    "\n",
    "# Arrays to be plotted\n",
    "syncOmegas = np.zeros(len(filenames))\n",
    "largestreeigs = np.zeros(len(filenames))\n",
    "\n",
    "# List of eigenvalue arrays\n",
    "dist_eigs = []\n",
    "\n",
    "# Error log tolerance\n",
    "posTol = 0.01\n",
    "neglogTol = -1.0\n",
    "withinzero = 0.0001\n",
    "\n",
    "for k in range(len(filenames)):\n",
    "    dir_eig = os.path.join(dir_im, filenames[k])\n",
    "    dict_eig = sio.loadmat(dir_eig)\n",
    "    \n",
    "    # Get Omega\n",
    "    syncOmegas[k] = dict_eig['Omega'][0,0]\n",
    "    \n",
    "    # Get largest eigenvalue\n",
    "    eigs_found = dict_eig['eigs']\n",
    "    eigs_error = dict_eig['eigerrors']\n",
    "    \n",
    "    # Keep only eigenvalue < tol\n",
    "    # print(eigs_found)\n",
    "    # eigs_found = eigs_found[eigs_error < tol]\n",
    "    \n",
    "    # Check the error of each eigenvalue found using det function\n",
    "    Omega = dict_eig['Omega'][0,0]\n",
    "    Delta = dict_eig['Delta'][0,0]\n",
    "    \n",
    "    detFun = funlib.eig2D_det(Omega, Delta, parameters)\n",
    "    \n",
    "    for i in range(eigs_found.size):\n",
    "        z = eigs_found[i]\n",
    "        if z.real > 0:\n",
    "            err = np.abs(detFun(z))\n",
    "            if err > posTol:\n",
    "                eigs_found[i] = np.NaN\n",
    "                      \n",
    "        elif z.real < 0:\n",
    "            err = np.log10(np.abs(detFun(z)))\n",
    "            if err > neglogTol:\n",
    "                eigs_found[i] = np.NaN\n",
    "                \n",
    "    # Get eigenvalue roots\n",
    "    dist_eigs.append(eigs_found)\n",
    "    \n",
    "    # Largest non-zero eigenvalue\n",
    "    # print(eigs_found.real[np.abs(eigs_found) > withinzero])\n",
    "    largestreeigs[k] = np.max(eigs_found.real[np.abs(eigs_found) > withinzero])\n",
    "\n",
    "# Sort in increasing Omega order\n",
    "inds_sort = np.argsort(syncOmegas)\n",
    "\n",
    "syncOmegas = syncOmegas[inds_sort]\n",
    "largestreeigs = largestreeigs[inds_sort]\n",
    "dist_eigs = [dist_eigs[inds_sort[i]] for i in range(inds_sort.size)]"
   ]
  },
  {
   "cell_type": "markdown",
   "metadata": {},
   "source": [
    "## Find any real eigenvalues"
   ]
  },
  {
   "cell_type": "code",
   "execution_count": 6,
   "metadata": {},
   "outputs": [
    {
     "data": {
      "text/plain": [
       "<matplotlib.lines.Line2D at 0x21262ad06a0>"
      ]
     },
     "execution_count": 6,
     "metadata": {},
     "output_type": "execute_result"
    },
    {
     "data": {
      "image/png": "[encoded data removed]",
      "text/plain": [
       "<Figure size 864x288 with 1 Axes>"
      ]
     },
     "metadata": {},
     "output_type": "display_data"
    }
   ],
   "source": [
    "# Which sync state:\n",
    "ind = 0\n",
    "\n",
    "OmegaTest = syncOmegas[ind]\n",
    "DeltaTest = np.arcsin((w0 - OmegaTest)/g)\n",
    "\n",
    "detFun = funlib.eig2D_det(OmegaTest, DeltaTest, parameters)\n",
    "\n",
    "z_arr = np.linspace(0, 0.75, num=1000)\n",
    "z_imag = 0.175\n",
    "err_arr = np.log10(1 + np.abs(detFun(z_arr+1j*z_imag)))\n",
    "\n",
    "figure, ax = plt.subplots(1, figsize = (12, 4))\n",
    "ax.plot(z_arr, err_arr)\n",
    "ax.axhline(y=0, color='black', linewidth=0.5, zorder=0)\n",
    "ax.axvline(x=0, color='black', linewidth=0.5, zorder=0)"
   ]
  },
  {
   "cell_type": "markdown",
   "metadata": {},
   "source": [
    "## Eigenvalue plot function"
   ]
  },
  {
   "cell_type": "code",
   "execution_count": 7,
   "metadata": {},
   "outputs": [],
   "source": [
    "def plot_eigs(ax, dict_eig, parameters, marker1={}, marker2={}, posTol=1, negTol=0):\n",
    "    '''\n",
    "    Plot function for eigenvalues, using the imported MATLAB dictionary.\n",
    "    '''\n",
    "    \n",
    "    # Meshes\n",
    "    u_mesh = dict_eig['re']\n",
    "    v_mesh = dict_eig['im']\n",
    "    err_mesh = dict_eig['logerror']\n",
    "    \n",
    "    # Located eigenvalues\n",
    "    eig_found = dict_eig['eigs']\n",
    "    eig_error = dict_eig['eigerrors']\n",
    "    \n",
    "    # Only plot eigenvalues within tolerance\n",
    "    eigs_found = eig_found[np.abs(eig_error) < tol]\n",
    "    \n",
    "    # Check the error of each eigenvalue found using det function\n",
    "    Omega = dict_eig['Omega'][0,0]\n",
    "    Delta = dict_eig['Delta'][0,0]\n",
    "    \n",
    "    detFun = funlib.eig2D_det(Omega, Delta, parameters)\n",
    "    \n",
    "    for i in range(eigs_found.size):\n",
    "        z = eigs_found[i]\n",
    "        if z.real > 0:\n",
    "            err = np.abs(z - detFun(z))\n",
    "            if err < posTol:\n",
    "                print(f'Eig = {z}, error = {err}')\n",
    "            else:\n",
    "                eigs_found[i] = np.NaN\n",
    "                      \n",
    "        elif z.real < 0:\n",
    "            err = np.log10(np.abs(z - detFun(z)))\n",
    "            if err < negTol:\n",
    "                print(f'Eig = {z}, error = {err}')\n",
    "            else:\n",
    "                eigs_found[i] = np.NaN\n",
    "                      \n",
    "    # ax.pcolormesh(u_mesh, v_mesh, err_mesh, cmap='binary', alpha=0.5, vmin=0, vmax=1)\n",
    "    ax.scatter(eig_found.real, eig_found.imag, **marker1, zorder=2)\n",
    "    ax.scatter(polyroots.real, polyroots.imag, **marker2, zorder=1)"
   ]
  },
  {
   "cell_type": "markdown",
   "metadata": {},
   "source": [
    "# Plots"
   ]
  },
  {
   "cell_type": "code",
   "execution_count": 8,
   "metadata": {},
   "outputs": [],
   "source": [
    "# Choose which eigenvalues to plot (on index)\n",
    "ind1 = 2\n",
    "ind2 = 3"
   ]
  },
  {
   "cell_type": "markdown",
   "metadata": {},
   "source": [
    "## Configure options"
   ]
  },
  {
   "cell_type": "code",
   "execution_count": 9,
   "metadata": {},
   "outputs": [],
   "source": [
    "# Plot positions [left, bottom, width, height] \n",
    "bbox0 = [0.15, 0.55, 0.25, 0.3]  # Fig 2a: Synchronization states (roots of R_gain)\n",
    "bbox1 = [0.15, 0.1, 0.25, 0.3]  # Fig 2b: Non-zero cubic roots (real part)\n",
    "bbox2 = [0.5, 0.1, 0.2, 0.8] # Fig 2c: Eigenvalue plot of 1st Omega\n",
    "bbox3 = [0.8, 0.1, 0.2, 0.8] # Fig 2d: Eigenvalue plot of 2nd Omega\n",
    "# bbox4 = [0.95, 0.1, 0.04, 0.8] # Colour legend for fig 2c, fig 2d heatmaps\n",
    "\n",
    "# Sign log\n",
    "slog = lambda x: np.sign(x)*np.log10(1 + np.abs(x))\n",
    "\n",
    "# Colours\n",
    "color_errA0 = 'magenta'\n",
    "color_errA1 = 'orange'\n",
    "color_errA2 = 'blue'\n",
    "\n",
    "# Linewidths\n",
    "axwidthA1 = axwidthB1 = 0.75\n",
    "axwidthA2 = axwidthB2 = 1.5\n",
    "\n",
    "# Alphas\n",
    "alphaA = 0.8\n",
    "alphaB = 0.9\n",
    "\n",
    "# Markers\n",
    "markerB = {'s': 40, 'marker': 'd', 'color': 'blue'}\n",
    "markerC = {'s': 25, 'marker': 'o', 'color': 'black'}\n",
    "markerD = {'s': 150, 'marker': '*', 'color': 'blue'}"
   ]
  },
  {
   "cell_type": "markdown",
   "metadata": {},
   "source": [
    "## Generate figure"
   ]
  },
  {
   "cell_type": "code",
   "execution_count": 10,
   "metadata": {},
   "outputs": [
    {
     "data": {
      "text/plain": [
       "<matplotlib.lines.Line2D at 0x21262e68080>"
      ]
     },
     "execution_count": 10,
     "metadata": {},
     "output_type": "execute_result"
    },
    {
     "data": {
      "image/png": "[encoded data removed]",
      "text/plain": [
       "<Figure size 960x640 with 4 Axes>"
      ]
     },
     "metadata": {},
     "output_type": "display_data"
    }
   ],
   "source": [
    "fig, ax = plt.subplots(4, figsize=(12, 8), dpi=80)\n",
    "\n",
    "# Set positions\n",
    "ax[0].set_position(bbox0)\n",
    "ax[1].set_position(bbox1)\n",
    "ax[2].set_position(bbox2)\n",
    "ax[3].set_position(bbox3)\n",
    "# ax[4].set_position(bbox4)\n",
    "\n",
    "# PLOT ARRAYS\n",
    "\n",
    "# Plot sync states\n",
    "ax[0].plot(Omega_arr, err_arr0, color=color_errA0, zorder=2)\n",
    "ax[0].plot(Omega_arr, err_arr1, color=color_errA1, zorder=2)\n",
    "ax[0].plot(Omega_arr, err_arr2, color=color_errA2, zorder=2)\n",
    "\n",
    "# ax[0].scatter(syncOmegas, np.zeros(syncOmegas.size), **markerB, zorder=2)\n",
    "\n",
    "# Plot maximal roots\n",
    "ax[1].scatter(syncOmegas, largestreeigs, **markerB, zorder=2)\n",
    "ax[1].set_xlim(left=w0-g, right=w0+g/8)\n",
    "\n",
    "# Plot eigenvalues\n",
    "ax[2].scatter(dist_eigs[ind1].real, dist_eigs[ind1].imag, **markerC, zorder=2)\n",
    "ax[3].scatter(dist_eigs[ind2].real, dist_eigs[ind2].imag, **markerC, zorder=2)\n",
    "\n",
    "# ADJUST\n",
    "\n",
    "# Sync plot\n",
    "ax[0].set_xlim(left=w0-g, right=w0+g/8)\n",
    "ax[0].axhline(y=0, color='black', linewidth=axwidthA1, zorder=0)\n",
    "ax[0].axvline(x=w0, color='green', linewidth=axwidthA2, alpha=alphaA, zorder=0)\n",
    "\n",
    "# Cubic plot\n",
    "# ax[1].set_xlim(left=w0-g, right=w0+g/4)\n",
    "ax[1].axhline(y=0, color='black', linewidth=axwidthB1, zorder=0)\n",
    "ax[1].axvline(x=w0, color='green', linewidth=axwidthB2, alpha=alphaA, zorder=0)\n",
    "\n",
    "# Eigenvalue plot\n",
    "ax[2].set_xlim(left=-1, right=1)\n",
    "ax[2].set_ylim(bottom=-5, top=5)\n",
    "ax[2].axhline(y=0, color='black', linewidth=axwidthA1, zorder=0)\n",
    "ax[2].axvline(x=0, color='black', linewidth=axwidthA1, zorder=0)\n",
    "\n",
    "ax[3].set_xlim(left=-4, right=4)\n",
    "ax[3].set_ylim(bottom=-5, top=5)\n",
    "ax[3].axhline(y=0, color='black', linewidth=axwidthA1, zorder=0)\n",
    "ax[3].axvline(x=0, color='black', linewidth=axwidthA1, zorder=0)"
   ]
  },
  {
   "cell_type": "markdown",
   "metadata": {},
   "source": [
    "# Statistics"
   ]
  },
  {
   "cell_type": "code",
   "execution_count": 11,
   "metadata": {},
   "outputs": [
    {
     "name": "stdout",
     "output_type": "stream",
     "text": [
      "Frequencies: \n",
      " 1st sync freq = 0.725 \n",
      " 2nd sync freq = 0.8549\n",
      "Largest real eig for 1st sync freq = -0.126\n",
      "Largest real eig for 2st sync freq = 2.989\n",
      "[0.2883 0.325  0.725  0.8549 0.9689]\n"
     ]
    }
   ],
   "source": [
    "largest_eig1 = largestreeigs[ind1]\n",
    "largest_eig2 = largestreeigs[ind2]\n",
    "print(f'Frequencies: \\n 1st sync freq = {syncOmegas[ind1]} \\n 2nd sync freq = {syncOmegas[ind2]}')\n",
    "print(f'Largest real eig for 1st sync freq = {largest_eig1}')\n",
    "print(f'Largest real eig for 2st sync freq = {largest_eig2}')\n",
    "print(syncOmegas)"
   ]
  }
 ],
 "metadata": {
  "kernelspec": {
   "display_name": "Python 3",
   "language": "python",
   "name": "python3"
  },
  "language_info": {
   "codemirror_mode": {
    "name": "ipython",
    "version": 3
   },
   "file_extension": ".py",
   "mimetype": "text/x-python",
   "name": "python",
   "nbconvert_exporter": "python",
   "pygments_lexer": "ipython3",
   "version": "3.6.5"
  }
 },
 "nbformat": 4,
 "nbformat_minor": 2
}

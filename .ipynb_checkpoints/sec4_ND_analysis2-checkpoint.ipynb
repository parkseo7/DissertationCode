{
 "cells": [
  {
   "cell_type": "markdown",
   "metadata": {},
   "source": [
    "# About\n",
    "\n",
    "Script to generate the figures pertaining to large-N dimensional analysis. Includes plotting the synchronous frequencies and Gaussian variance and their corresponding eigenvalue distributions and patterns. Import .mat files generated from 'sec4_ND_analysis.m'."
   ]
  },
  {
   "cell_type": "markdown",
   "metadata": {},
   "source": [
    "# Library"
   ]
  },
  {
   "cell_type": "code",
   "execution_count": 1,
   "metadata": {},
   "outputs": [],
   "source": [
    "from __future__ import division, print_function\n",
    "\n",
    "%matplotlib inline\n",
    "# Toggle on/off\n",
    "# %matplotlib notebook\n",
    "\n",
    "import os\n",
    "import numpy as np\n",
    "import scipy.io as sio\n",
    "from scipy import optimize\n",
    "import scipy.integrate as integrate\n",
    "import matplotlib.cm as cm\n",
    "import matplotlib.pyplot as plt\n",
    "import matplotlib.transforms as tsfm\n",
    "import math\n",
    "from math import pi\n",
    "\n",
    "from lib import *\n",
    "\n",
    "from IPython.display import clear_output"
   ]
  },
  {
   "cell_type": "markdown",
   "metadata": {},
   "source": [
    "# Directories"
   ]
  },
  {
   "cell_type": "code",
   "execution_count": 2,
   "metadata": {},
   "outputs": [],
   "source": [
    "# Data files (for fig.4d)\n",
    "import_folder = 'sec4_ND_analysis'\n",
    "\n",
    "# Directory\n",
    "dir_main = os.getcwd()\n",
    "dir_im = os.path.join(dir_main, 'matlab', 'data', import_folder)\n",
    "\n",
    "filenames = os.listdir(dir_im)"
   ]
  },
  {
   "cell_type": "markdown",
   "metadata": {},
   "source": [
    "# Import"
   ]
  },
  {
   "cell_type": "markdown",
   "metadata": {},
   "source": [
    "## Parameters"
   ]
  },
  {
   "cell_type": "code",
   "execution_count": 3,
   "metadata": {},
   "outputs": [],
   "source": [
    "dir_sam = os.path.join(dir_im, filenames[0])\n",
    "dict_mat = sio.loadmat(dir_sam)\n",
    "\n",
    "# Parameters\n",
    "g = dict_mat['g'][0,0]\n",
    "w0 = dict_mat['omega0'][0,0]\n",
    "gain = dict_mat['gain'][0,0]\n",
    "tau0 = dict_mat['tau0'][0,0]\n",
    "scale = 1\n",
    "tol = dict_mat['logtol'][0,0]"
   ]
  },
  {
   "cell_type": "markdown",
   "metadata": {},
   "source": [
    "## Theoretical frequencies"
   ]
  },
  {
   "cell_type": "code",
   "execution_count": 4,
   "metadata": {},
   "outputs": [],
   "source": [
    "parameters = {'g': g, 'omega0': w0, 'gain': gain, 'tau0': tau0}\n",
    "L = pi\n",
    "steps = 100\n",
    "\n",
    "# Choose deltas\n",
    "delta1 = 0.05\n",
    "delta2 = 0.10\n",
    "delta3 = 0.15\n",
    "delta4 = 0.20\n",
    "\n",
    "freqarr = np.linspace(w0-g, w0+g, num=100)\n",
    "errarr1 = np.zeros(freqarr.size)\n",
    "errarr2 = np.zeros(freqarr.size)\n",
    "errarr3 = np.zeros(freqarr.size)\n",
    "errarr4 = np.zeros(freqarr.size)\n",
    "\n",
    "for i in range(len(freqarr)):\n",
    "    freq = freqarr[i]\n",
    "    errarr1[i] = funlib.Omega_infty(freq, delta1, parameters, L=L, steps=steps) - freq\n",
    "    errarr2[i] = funlib.Omega_infty(freq, delta2, parameters, L=L, steps=steps) - freq\n",
    "    errarr3[i] = funlib.Omega_infty(freq, delta3, parameters, L=L, steps=steps) - freq\n",
    "    errarr4[i] = funlib.Omega_infty(freq, delta4, parameters, L=L, steps=steps) - freq"
   ]
  },
  {
   "cell_type": "markdown",
   "metadata": {},
   "source": [
    "## Compile arrays"
   ]
  },
  {
   "cell_type": "code",
   "execution_count": 5,
   "metadata": {},
   "outputs": [],
   "source": [
    "# Chosen deltas\n",
    "delta_eig1 = 0.03\n",
    "delta_eig2 = 0.10\n",
    "\n",
    "# Tolerance for zero\n",
    "tolzero = 0.001\n",
    "\n",
    "# Maximum allowed log10 error\n",
    "MAXERR = -3\n",
    "\n",
    "# Distance from chosen deltas\n",
    "DIST1 = 100\n",
    "DIST2 = 100\n",
    "\n",
    "deltaarr = np.array([])\n",
    "Omegaarr = np.array([])\n",
    "leadreeigs = np.array([])\n",
    "maxerrors = np.array([])\n",
    "\n",
    "for i in range(len(filenames)):\n",
    "    \n",
    "    # Get file dict\n",
    "    dir_file = os.path.join(dir_im, filenames[i])\n",
    "    dict_mat = sio.loadmat(dir_file)\n",
    "    \n",
    "    # Acquire data\n",
    "    delta = dict_mat['delta'][0,0]\n",
    "    Omega = dict_mat['Omega'][0,0]\n",
    "    \n",
    "    # Scale\n",
    "    # scale = dict_mat['scale'][0,0]\n",
    "    \n",
    "    # Eigenvalues\n",
    "    eigs = dict_mat['found']\n",
    "    # print(delta)\n",
    "    # print(eigs)\n",
    "    scaled_eigs = eigs\n",
    "    error = np.max(dict_mat['errors'])\n",
    "    \n",
    "    # Filter out eigenvalues with large log10 error\n",
    "    eigs = eigs[np.log10(error) < MAXERR]\n",
    "    \n",
    "    # Leading eigenvalue\n",
    "    nonzero_eigs = scaled_eigs[np.abs(scaled_eigs) > tolzero]\n",
    "    if nonzero_eigs.size == 0:\n",
    "        continue\n",
    "    \n",
    "    leadreeig = np.max(np.real(nonzero_eigs))\n",
    "    \n",
    "    # Update arrays\n",
    "    deltaarr = np.append(deltaarr, delta)\n",
    "    Omegaarr = np.append(Omegaarr, Omega)\n",
    "    leadreeigs = np.append(leadreeigs, leadreeig)\n",
    "    maxerrors = np.append(maxerrors, error)\n",
    "    \n",
    "    # Check if near chosen delta\n",
    "    dist1 = np.abs(delta - delta_eig1)\n",
    "    dist2 = np.abs(delta - delta_eig2)\n",
    "    \n",
    "    if dist1 < DIST1:\n",
    "        u_mesh1 = dict_mat['re']\n",
    "        v_mesh1 = dict_mat['im']\n",
    "        f_mesh1 = dict_mat['fvals']\n",
    "        found_eigs1 = dict_mat['found']\n",
    "        found_errs1 = dict_mat['errors']\n",
    "        delta_plot1 = delta\n",
    "        Omega_plot1 = Omega\n",
    "        DIST1 = dist1\n",
    "    \n",
    "    if dist2 < DIST2:\n",
    "        u_mesh2 = dict_mat['re']\n",
    "        v_mesh2 = dict_mat['im']\n",
    "        f_mesh2 = dict_mat['fvals']\n",
    "        found_eigs2 = dict_mat['found']\n",
    "        found_err2 = dict_mat['errors']\n",
    "        delta_plot2 = delta\n",
    "        Omega_plot2 = Omega\n",
    "        DIST2 = dist2\n",
    "        \n",
    "# Re-order delta\n",
    "sortinds = np.argsort(deltaarr)\n",
    "deltaarr = deltaarr[sortinds]\n",
    "Omegaarr = Omegaarr[sortinds]\n",
    "leadreeigs = leadreeigs[sortinds]"
   ]
  },
  {
   "cell_type": "markdown",
   "metadata": {},
   "source": [
    "# Plot"
   ]
  },
  {
   "cell_type": "markdown",
   "metadata": {},
   "source": [
    "## Eigenvalue plots\n",
    "\n",
    "Define function to plot each set of meshes and points"
   ]
  },
  {
   "cell_type": "code",
   "execution_count": 6,
   "metadata": {},
   "outputs": [],
   "source": [
    "# Plot positions [left, bottom, width, height]\n",
    "bbox0 = [0.10, 0.80, 0.30, 0.20] # Top left (error plot)\n",
    "bbox1 = [0.10, 0.45, 0.30, 0.20] # Middle left (stability of expected eigenvalues)\n",
    "bbox2 = [0.10, 0.10, 0.30, 0.20] # Bottom left (stability of actual eigenvalues)\n",
    "bbox3 = [0.50, 0.10, 0.20, 0.90] # Right eig plot 1\n",
    "bbox4 = [0.80, 0.10, 0.20, 0.90] # Right eig plot 2\n",
    "\n",
    "# Alphas\n",
    "alpha1 = 0.8\n",
    "alpha_col = 0.2\n",
    "alpha_w0 = 0.8\n",
    "\n",
    "col1 = 'orange'\n",
    "col2 = 'blue'\n",
    "col_w0 = 'green'\n",
    "\n",
    "# Linewidths\n",
    "lw1 = 0.5\n",
    "lw2 = 1.0\n",
    "\n",
    "# Markers\n",
    "m1 = 'x'\n",
    "m2 = 's'\n",
    "\n",
    "# Markersize\n",
    "ms1 = 4\n",
    "\n",
    "# S.log function\n",
    "slog = lambda x: np.sign(x)*np.log10(1 + np.abs(x))"
   ]
  },
  {
   "cell_type": "markdown",
   "metadata": {},
   "source": [
    "## Options"
   ]
  },
  {
   "cell_type": "code",
   "execution_count": 7,
   "metadata": {},
   "outputs": [],
   "source": [
    "# Plot positions [left, bottom, width, height]\n",
    "bbox0 = [0.10, 0.80, 0.30, 0.20] # Top left (error plot)\n",
    "bbox1 = [0.10, 0.45, 0.30, 0.20] # Middle left (stability of expected eigenvalues)\n",
    "bbox2 = [0.10, 0.10, 0.30, 0.20] # Bottom left (stability of actual eigenvalues)\n",
    "bbox3 = [0.50, 0.10, 0.20, 0.90] # Right eig plot 1\n",
    "bbox4 = [0.80, 0.10, 0.20, 0.90] # Right eig plot 2\n",
    "\n",
    "# Alphas\n",
    "alpha1 = 0.8\n",
    "alpha_col = 0.2\n",
    "alpha_w0 = 0.8\n",
    "\n",
    "col1 = 'orange'\n",
    "col2 = 'blue'\n",
    "col_w0 = 'green'\n",
    "\n",
    "# Linewidths\n",
    "lw1 = 0.5\n",
    "lw2 = 1.0\n",
    "\n",
    "# Markers\n",
    "m1 = 'x'\n",
    "m2 = 's'\n",
    "\n",
    "# Markersize\n",
    "ms1 = 4\n",
    "\n",
    "# S.log function\n",
    "slog = lambda x: np.sign(x)*np.log10(1 + np.abs(x))\n",
    "\n",
    "# Error lines\n",
    "errcolor1 = 'red'\n",
    "errcolor2 = 'orange'\n",
    "errcolor3 = 'blue'\n",
    "errcolor4 = 'purple'\n",
    "\n",
    "# Axis lines\n",
    "linewidthA = 0.5\n",
    "linewidthB = 1.2\n",
    "linecolorA = 'black'\n",
    "linecolorB = 'green'"
   ]
  },
  {
   "cell_type": "markdown",
   "metadata": {},
   "source": [
    "## Generate figures part 1"
   ]
  },
  {
   "cell_type": "code",
   "execution_count": 8,
   "metadata": {},
   "outputs": [
    {
     "data": {
      "text/plain": [
       "<matplotlib.collections.PathCollection at 0x1b73d523780>"
      ]
     },
     "execution_count": 8,
     "metadata": {},
     "output_type": "execute_result"
    },
    {
     "data": {
      "image/png": "[encoded data removed]",
      "text/plain": [
       "<Figure size 960x320 with 5 Axes>"
      ]
     },
     "metadata": {},
     "output_type": "display_data"
    }
   ],
   "source": [
    "fig, ax = plt.subplots(5, figsize=(12,4), dpi=80)\n",
    "\n",
    "# Set positions\n",
    "ax[0].set_position(bbox0)\n",
    "ax[1].set_position(bbox1)\n",
    "ax[2].set_position(bbox2)\n",
    "ax[3].set_position(bbox3)\n",
    "ax[4].set_position(bbox4)\n",
    "\n",
    "# Plot errors\n",
    "ax[0].plot(freqarr, slog(errarr1), color=errcolor1, zorder=2)\n",
    "ax[0].plot(freqarr, slog(errarr2), color=errcolor2, zorder=2)\n",
    "ax[0].plot(freqarr, slog(errarr3), color=errcolor3, zorder=2)\n",
    "ax[0].plot(freqarr, slog(errarr4), color=errcolor4, zorder=2)\n",
    "\n",
    "# Eigenvalues\n",
    "ax[3].scatter(found_eigs1.real, slog(found_eigs1.imag), facecolors='none', edgecolors='red', zorder=2)\n",
    "ax[4].scatter(found_eigs2.real, slog(found_eigs2.imag), facecolors='none', edgecolors='red', zorder=2)\n",
    "\n",
    "# Edit error plot\n",
    "ax[0].set_xlim(left=w0-g, right=w0+g/2)\n",
    "ax[0].axhline(y=0, linewidth=linewidthA, color=linecolorA, zorder=0)\n",
    "ax[0].axvline(x=w0, linewidth=linewidthB, color=linecolorB, zorder=0)\n",
    "\n",
    "# Axis lines\n",
    "ax[3].axvline(x=0, color='black', linewidth=0.5, zorder=0)\n",
    "ax[4].axvline(x=0, color='black', linewidth=0.5, zorder=0)\n",
    "ax[3].axhline(y=0, color='black', linewidth=0.5, zorder=0)\n",
    "ax[4].axhline(y=0, color='black', linewidth=0.5, zorder=0)\n"
   ]
  },
  {
   "cell_type": "markdown",
   "metadata": {},
   "source": [
    "## Figure part 1 statistics"
   ]
  },
  {
   "cell_type": "code",
   "execution_count": 9,
   "metadata": {},
   "outputs": [
    {
     "name": "stdout",
     "output_type": "stream",
     "text": [
      "Plotted deltas for fig.A: \n",
      "       red: 0.05 \n",
      "       orange: 0.1 \n",
      "       blue: 0.15 \n",
      "       purple: 0.2\n",
      "Plotted deltas for fig.B, C: \n",
      "       delta B: 0.02 \n",
      "       Omega B: 0.6262695312499997 \n",
      "       delta C: 0.1 \n",
      "       Omega C: 0.7631835937499997\n"
     ]
    }
   ],
   "source": [
    "print(f'Plotted deltas for fig.A: \\n \\\n",
    "      {errcolor1}: {delta1} \\n \\\n",
    "      {errcolor2}: {delta2} \\n \\\n",
    "      {errcolor3}: {delta3} \\n \\\n",
    "      {errcolor4}: {delta4}')\n",
    "\n",
    "print(f'Plotted deltas for fig.B, C: \\n \\\n",
    "      delta B: {delta_plot1} \\n \\\n",
    "      Omega B: {Omega_plot1} \\n \\\n",
    "      delta C: {delta_plot2} \\n \\\n",
    "      Omega C: {Omega_plot2}')"
   ]
  },
  {
   "cell_type": "markdown",
   "metadata": {},
   "source": [
    "## Generate figures part 2"
   ]
  },
  {
   "cell_type": "code",
   "execution_count": 10,
   "metadata": {},
   "outputs": [
    {
     "ename": "NameError",
     "evalue": "name 'bbox5' is not defined",
     "output_type": "error",
     "traceback": [
      "\u001b[1;31m---------------------------------------------------------------------------\u001b[0m",
      "\u001b[1;31mNameError\u001b[0m                                 Traceback (most recent call last)",
      "\u001b[1;32m<ipython-input-10-e3e4f47d4ffb>\u001b[0m in \u001b[0;36m<module>\u001b[1;34m()\u001b[0m\n\u001b[0;32m      3\u001b[0m \u001b[1;31m# Set positions\u001b[0m\u001b[1;33m\u001b[0m\u001b[1;33m\u001b[0m\u001b[0m\n\u001b[0;32m      4\u001b[0m \u001b[0max\u001b[0m\u001b[1;33m[\u001b[0m\u001b[1;36m0\u001b[0m\u001b[1;33m]\u001b[0m\u001b[1;33m.\u001b[0m\u001b[0mset_position\u001b[0m\u001b[1;33m(\u001b[0m\u001b[0mbbox4\u001b[0m\u001b[1;33m)\u001b[0m\u001b[1;33m\u001b[0m\u001b[0m\n\u001b[1;32m----> 5\u001b[1;33m \u001b[0max\u001b[0m\u001b[1;33m[\u001b[0m\u001b[1;36m1\u001b[0m\u001b[1;33m]\u001b[0m\u001b[1;33m.\u001b[0m\u001b[0mset_position\u001b[0m\u001b[1;33m(\u001b[0m\u001b[0mbbox5\u001b[0m\u001b[1;33m)\u001b[0m\u001b[1;33m\u001b[0m\u001b[0m\n\u001b[0m\u001b[0;32m      6\u001b[0m \u001b[1;33m\u001b[0m\u001b[0m\n\u001b[0;32m      7\u001b[0m \u001b[0max\u001b[0m\u001b[1;33m[\u001b[0m\u001b[1;36m0\u001b[0m\u001b[1;33m]\u001b[0m\u001b[1;33m.\u001b[0m\u001b[0mplot\u001b[0m\u001b[1;33m(\u001b[0m\u001b[0mdeltaarr\u001b[0m\u001b[1;33m,\u001b[0m \u001b[0mOmegaarr\u001b[0m\u001b[1;33m,\u001b[0m \u001b[0mcolor\u001b[0m\u001b[1;33m=\u001b[0m\u001b[1;34m'black'\u001b[0m\u001b[1;33m)\u001b[0m\u001b[1;33m\u001b[0m\u001b[0m\n",
      "\u001b[1;31mNameError\u001b[0m: name 'bbox5' is not defined"
     ]
    },
    {
     "data": {
      "image/png": "[encoded data removed]",
      "text/plain": [
       "<Figure size 960x320 with 2 Axes>"
      ]
     },
     "metadata": {},
     "output_type": "display_data"
    }
   ],
   "source": [
    "fig, ax = plt.subplots(2, figsize=(12,4), dpi=80)\n",
    "\n",
    "# Set positions\n",
    "ax[0].set_position(bbox4)\n",
    "ax[1].set_position(bbox5)\n",
    "\n",
    "ax[0].plot(deltaarr, Omegaarr, color='black')\n",
    "ax[1].plot(deltaarr, leadreeigs, color='blue')\n",
    "\n",
    "# Set limits\n",
    "ax[0].set_xlim(left=0, right=np.max(deltaarr))\n",
    "ax[0].set_ylim(bottom=w0-g/2, top=w0+g/4)\n",
    "ax[1].set_xlim(left=0, right=np.max(deltaarr))\n",
    "ax[1].set_ylim(bottom=1.1*np.min(leadreeigs), top=gain*g/8)\n",
    "\n",
    "# Horizontal lines\n",
    "ax[0].axhline(y=w0, linewidth=linewidthB, color=linecolorB, zorder=0)\n",
    "ax[1].axhline(y=0, linewidth=linewidthA, color=linecolorA, zorder=0)"
   ]
  },
  {
   "cell_type": "code",
   "execution_count": null,
   "metadata": {},
   "outputs": [],
   "source": [
    "# Obtain local minimas of eigenvalues\n",
    "prev_leadeigs = leadreeigs[:-2]\n",
    "curr_leadeigs = leadreeigs[1:-1]\n",
    "next_leadeigs = leadreeigs[2:]\n",
    "eig_bools = np.array([curr_leadeigs < prev_leadeigs, curr_leadeigs < next_leadeigs])\n",
    "localinds = np.all(eig_bools, axis=0)\n",
    "localmins = deltaarr[1:-1][localinds]\n",
    "print('Local minimas:')\n",
    "for i in range(localmins.size):\n",
    "    localmin = localmins[i]\n",
    "    print(f'delta = {localmin}')"
   ]
  },
  {
   "cell_type": "code",
   "execution_count": null,
   "metadata": {},
   "outputs": [],
   "source": [
    "maxerrors"
   ]
  },
  {
   "cell_type": "code",
   "execution_count": null,
   "metadata": {},
   "outputs": [],
   "source": [
    "found_err2"
   ]
  },
  {
   "cell_type": "code",
   "execution_count": null,
   "metadata": {},
   "outputs": [],
   "source": []
  }
 ],
 "metadata": {
  "kernelspec": {
   "display_name": "Python 3",
   "language": "python",
   "name": "python3"
  },
  "language_info": {
   "codemirror_mode": {
    "name": "ipython",
    "version": 3
   },
   "file_extension": ".py",
   "mimetype": "text/x-python",
   "name": "python",
   "nbconvert_exporter": "python",
   "pygments_lexer": "ipython3",
   "version": "3.6.5"
  }
 },
 "nbformat": 4,
 "nbformat_minor": 2
}

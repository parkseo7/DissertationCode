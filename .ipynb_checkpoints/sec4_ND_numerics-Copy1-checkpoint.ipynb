{
 "cells": [
  {
   "cell_type": "markdown",
   "metadata": {},
   "source": [
    "# About\n",
    "\n",
    "Script to generate the figures pertaining to large-N dimensional numerics. Shows the plots over time for a single trial, and a compiled plot showing where multiple trials converge in terms of asymptotic frequency and variance. Import .mat files generated from 'sec4_ND_numerics.m'."
   ]
  },
  {
   "cell_type": "markdown",
   "metadata": {},
   "source": [
    "# Library"
   ]
  },
  {
   "cell_type": "code",
   "execution_count": 1,
   "metadata": {},
   "outputs": [],
   "source": [
    "from __future__ import division, print_function\n",
    "\n",
    "%matplotlib inline\n",
    "# Toggle on/off\n",
    "# %matplotlib notebook\n",
    "\n",
    "import os\n",
    "import numpy as np\n",
    "import scipy.io as sio\n",
    "from scipy import optimize\n",
    "import scipy.integrate as integrate\n",
    "from scipy import stats\n",
    "import matplotlib.cm as cm\n",
    "import matplotlib.pyplot as plt\n",
    "import matplotlib.transforms as tsfm\n",
    "import math\n",
    "from math import pi\n",
    "\n",
    "from lib import *\n",
    "\n",
    "from IPython.display import clear_output"
   ]
  },
  {
   "cell_type": "markdown",
   "metadata": {},
   "source": [
    "# Directories"
   ]
  },
  {
   "cell_type": "code",
   "execution_count": 2,
   "metadata": {},
   "outputs": [],
   "source": [
    "# Data files (for fig.4d)\n",
    "import_folder = 'sec4_ND_numerics2'\n",
    "\n",
    "# Directory\n",
    "dir_main = os.getcwd()\n",
    "dir_im = os.path.join(dir_main, 'matlab', 'data', import_folder)\n",
    "\n",
    "filenames = os.listdir(dir_im)"
   ]
  },
  {
   "cell_type": "markdown",
   "metadata": {},
   "source": [
    "# Import data"
   ]
  },
  {
   "cell_type": "markdown",
   "metadata": {},
   "source": [
    "## Parameters"
   ]
  },
  {
   "cell_type": "code",
   "execution_count": 3,
   "metadata": {},
   "outputs": [],
   "source": [
    "dir_sam = os.path.join(dir_im, filenames[0])\n",
    "dict_mat = sio.loadmat(dir_sam)\n",
    "\n",
    "# Parameters\n",
    "g = dict_mat['g'][0,0]\n",
    "w0 = dict_mat['omega0'][0,0]\n",
    "gain = dict_mat['gain'][0,0]\n",
    "tau0 = dict_mat['tau0'][0,0]\n",
    "\n",
    "parameters = {'g': g, 'omega0': w0, 'tau0': tau0, 'gain': gain}\n",
    "\n",
    "asy = 0.1"
   ]
  },
  {
   "cell_type": "markdown",
   "metadata": {},
   "source": [
    "## Theoretical frequencies\n",
    "\n",
    "Obtain the theoretical curve $\\Omega = \\Omega(\\delta)$."
   ]
  },
  {
   "cell_type": "code",
   "execution_count": 4,
   "metadata": {},
   "outputs": [],
   "source": [
    "# Fixed-point function\n",
    "Omegafun = lambda Omega, delta: funlib.Omega_infty(Omega, delta, parameters, L=2*pi, steps=1000) - Omega\n",
    "\n",
    "# Arrays\n",
    "deltaarr = np.linspace(0,1, num=200)\n",
    "Omegaarr = np.linspace(w0-g, w0+g, num=200)\n",
    "\n",
    "# Obtain Omega = Omega(delta) function\n",
    "Omegaroots = np.zeros(deltaarr.size)\n",
    "\n",
    "initOmega = w0\n",
    "\n",
    "for k in range(deltaarr.size):\n",
    "    deltak = deltaarr[k]\n",
    "    Omegafunk = lambda Omega: Omegafun(Omega, deltak)\n",
    "    newroot = rootlib.find_root(Omegafunk, initOmega, w0-g, w0+g, steps=100)\n",
    "    if newroot[1]:\n",
    "        Omegaroots[k] = newroot[0]\n",
    "        initOmega = newroot[0]"
   ]
  },
  {
   "cell_type": "markdown",
   "metadata": {},
   "source": [
    "## Asymptotic values"
   ]
  },
  {
   "cell_type": "code",
   "execution_count": 5,
   "metadata": {},
   "outputs": [],
   "source": [
    "# Chosen starting point\n",
    "Omega_choose = w0\n",
    "delta_choose = 0.5\n",
    "\n",
    "DIST = 100\n",
    "\n",
    "# Compiled arrays\n",
    "initOmegas = np.zeros(len(filenames))\n",
    "initstds = np.zeros(len(filenames))\n",
    "asyOmegas = np.zeros(len(filenames))\n",
    "asydeltas = np.zeros(len(filenames))\n",
    "varOmegas = np.zeros(len(filenames))\n",
    "\n",
    "for i in range(len(filenames)):\n",
    "    \n",
    "    # Import .mat file\n",
    "    dir_mat = os.path.join(dir_im, filenames[i])\n",
    "    dict_mat = sio.loadmat(dir_mat)\n",
    "    \n",
    "    # Compile solution dictionary\n",
    "    sol = {'t': np.reshape(dict_mat['t'], -1),\n",
    "           'y': dict_mat['y'],\n",
    "           'yp': dict_mat['yp'],\n",
    "           'tau': dict_mat['tau'],\n",
    "           'taup': dict_mat['taup']\n",
    "          }\n",
    "    \n",
    "    initOmega = dict_mat['Omega0'][0,0]\n",
    "    initstd = dict_mat['std'][0,0]\n",
    "    \n",
    "    # Compute the global frequency:\n",
    "    arrOmega = asylib.weight_avg(sol['t'], sol['yp'], asy)\n",
    "    asyOmega = np.sum(arrOmega) / arrOmega.size\n",
    "\n",
    "    Omegavars = asylib.weight_avg(sol['t'], (sol['yp'] - asyOmega)**2, asy)\n",
    "    Omegavar = np.sum(Omegavars)\n",
    "\n",
    "    # Get array of asymptotic phases:\n",
    "    arrlin = asyOmega*sol['t']\n",
    "    arrlin = arrlin[:,None]\n",
    "\n",
    "    arrphases = sol['y'] - arrlin\n",
    "    asyphases = asylib.weight_avg(sol['t'], arrphases, asy)\n",
    "\n",
    "    # Variance\n",
    "    phasevars = asylib.weight_avg(sol['t'], (arrphases - asyphases)**2, asy)\n",
    "    phasevar = np.mean(phasevars)\n",
    "    \n",
    "    N = asyphases.size\n",
    "    asydelta = np.sqrt((N/(N-1))*np.var(asyphases))\n",
    "    \n",
    "    # Chosen plot\n",
    "    dist = np.sqrt((initOmega - Omega_choose)**2 + (initstd - delta_choose)**2)\n",
    "    if dist < DIST:\n",
    "        DIST = dist\n",
    "        Omega_plot = asyOmega\n",
    "        delta_plot = asydelta\n",
    "        phasestd_plot = np.sqrt(phasevar)\n",
    "        initOmega_plot = initOmega\n",
    "        initstd_plot = initstd\n",
    "        \n",
    "        sol_plot = sol.copy()\n",
    "        phases_plot = arrphases\n",
    "        asyphases_plot = asyphases\n",
    "        \n",
    "    # SAVE TO ARRAYS\n",
    "    initOmegas[i] = initOmega\n",
    "    initstds[i] = initstd\n",
    "    asyOmegas[i] = asyOmega\n",
    "    asydeltas[i] = asydelta\n",
    "    varOmegas[i] = Omegavar\n",
    "    \n",
    "    sol = sol_plot\n",
    "\n",
    "    # Print statements:\n",
    "    # print(\"Trial: \" + filenames[i] + ', init.Delta = ' + str(init_std))"
   ]
  },
  {
   "cell_type": "markdown",
   "metadata": {},
   "source": [
    "## Process arrays for plots"
   ]
  },
  {
   "cell_type": "code",
   "execution_count": 6,
   "metadata": {},
   "outputs": [],
   "source": [
    "# Sample which delay indices to plot:\n",
    "NN = sol['tau'].shape[1]\n",
    "num_inds = 50\n",
    "inds = np.random.choice(np.arange(NN), size=num_inds, replace=False)\n",
    "\n",
    "# Gaussian array\n",
    "phasesarr_mod = asylib.mod_pi(asyphases_plot)\n",
    "phasescenter = phasesarr_mod - np.average(phasesarr_mod)\n",
    "L_dist = 5*np.sqrt(np.var(phasescenter))\n",
    "num_bins = 30\n",
    "distbins = np.linspace(-L_dist, L_dist, num=num_bins)\n",
    "\n",
    "x_arr = np.linspace(-L_dist, L_dist, num=500)\n",
    "y_arr = np.exp(-x_arr**2/(2*delta_plot**2)) / np.sqrt(2*pi*delta_plot**2)"
   ]
  },
  {
   "cell_type": "markdown",
   "metadata": {},
   "source": [
    "# Plot"
   ]
  },
  {
   "cell_type": "markdown",
   "metadata": {},
   "source": [
    "## Options"
   ]
  },
  {
   "cell_type": "code",
   "execution_count": 7,
   "metadata": {},
   "outputs": [],
   "source": [
    "bbox0 = [0.10, 0.7, 0.3, 0.20]  # Fig 2a: Derivative plots\n",
    "bbox1 = [0.10, 0.4, 0.3, 0.20]  # Fig 2b: sin(phase) plots\n",
    "bbox2 = [0.10, 0.1, 0.3, 0.20] # Fig 2c: Delay plots\n",
    "bbox3 = [0.50, 0.1, 0.40, 0.5] # Fig 2e: Iterated trial plot\n",
    "bbox4 = [0.50, 0.7, 0.40, 0.2] # Fig 2d: Histogram plot with Gaussian fit\n",
    "\n",
    "# Figures A, B, C\n",
    "linewidth1 = 1.2\n",
    "alpha1 = 0.4\n",
    "\n",
    "t0 = np.min(sol['t'])\n",
    "tf = np.max(sol['t'])"
   ]
  },
  {
   "cell_type": "markdown",
   "metadata": {},
   "source": [
    "## Generate figures"
   ]
  },
  {
   "cell_type": "code",
   "execution_count": 8,
   "metadata": {},
   "outputs": [
    {
     "data": {
      "text/plain": [
       "<matplotlib.lines.Line2D at 0x2901a7451d0>"
      ]
     },
     "execution_count": 8,
     "metadata": {},
     "output_type": "execute_result"
    },
    {
     "data": {
      "image/png": "[encoded data removed]",
      "text/plain": [
       "<Figure size 960x640 with 5 Axes>"
      ]
     },
     "metadata": {},
     "output_type": "display_data"
    }
   ],
   "source": [
    "fig, ax = plt.subplots(5, figsize=(12,8), dpi=80)\n",
    "\n",
    "# Set positions\n",
    "ax[0].set_position(bbox0)\n",
    "ax[1].set_position(bbox1)\n",
    "ax[2].set_position(bbox2)\n",
    "ax[3].set_position(bbox3)\n",
    "ax[4].set_position(bbox4)\n",
    "\n",
    "# Figures A, B, C (single trial)\n",
    "ax[0].plot(sol['t'], sol['yp'], linewidth=linewidth1, alpha=alpha1, zorder=2)\n",
    "ax[1].plot(sol['t'], np.sin(phases_plot), linewidth=linewidth1, alpha=alpha1, zorder=2)\n",
    "ax[2].plot(sol['t'], sol['tau'][:,inds], linewidth=linewidth1, alpha=alpha1, zorder=2)\n",
    "\n",
    "# Figure D\n",
    "ax[4].plot(x_arr, y_arr, color='black', zorder=2)\n",
    "ax[4].hist(phasescenter, bins=distbins, color='orange', density=True, zorder=1)\n",
    "\n",
    "# Figure E\n",
    "ax[3].plot(deltaarr, Omegaroots)\n",
    "ax[3].scatter(initstds, initOmegas, color='blue', zorder=2)\n",
    "ax[3].scatter(asydeltas, asyOmegas, color='orange', zorder=2)\n",
    "\n",
    "for k in range(initOmegas.size):\n",
    "    p1 = np.array([initOmegas[k], asyOmegas[k]])\n",
    "    p2 = np.array([initstds[k], asydeltas[k]])\n",
    "    ax[3].plot(p2, p1, color='black', linewidth=0.5, zorder=1)\n",
    "    \n",
    "# Edit plots\n",
    "ax[0].set_xlim(left=t0, right=tf)\n",
    "ax[1].set_xlim(left=t0, right=tf)\n",
    "ax[2].set_xlim(left=t0, right=tf)\n",
    "ax[3].set_xlim(left=-0.05, right=1.0)\n",
    "\n",
    "ax[0].axhline(y=w0, color='green', alpha=0.8, linewidth=1.5)\n",
    "ax[3].axhline(y=w0, color='green', alpha=0.8, linewidth=1.5)\n",
    "ax[3].axvline(x=0, color='black', alpha=0.8, linewidth=0.5)"
   ]
  },
  {
   "cell_type": "markdown",
   "metadata": {},
   "source": [
    "# Statistics"
   ]
  },
  {
   "cell_type": "code",
   "execution_count": 9,
   "metadata": {},
   "outputs": [
    {
     "name": "stdout",
     "output_type": "stream",
     "text": [
      "Asymptotic frequency = 0.838752692551371\n",
      "Asymptotic std = 0.04813036847824787\n",
      "Phase std = 0.0002782553784646142\n",
      "Initial Omega = 0.7800382400865896\n",
      "Initial std = 0.17596629348645493\n",
      "Shapiro-Wilk Test p-value: 0.0023171519860625267\n",
      "{'g': 1.5, 'omega0': 1, 'tau0': 0.1, 'gain': 80}\n"
     ]
    }
   ],
   "source": [
    "print(f'Asymptotic frequency = {Omega_plot}\\n\\\n",
    "Asymptotic std = {delta_plot}\\n\\\n",
    "Phase std = {phasestd_plot}\\n\\\n",
    "Initial Omega = {initOmega_plot}\\n\\\n",
    "Initial std = {initstd_plot}')\n",
    "\n",
    "print(\"Shapiro-Wilk Test p-value: \" + str(stats.shapiro(phasescenter)[1])) # High p-value implies normal distribution\n",
    "print(parameters)"
   ]
  },
  {
   "cell_type": "code",
   "execution_count": 10,
   "metadata": {},
   "outputs": [
    {
     "data": {
      "text/plain": [
       "array([0.78003824])"
      ]
     },
     "execution_count": 10,
     "metadata": {},
     "output_type": "execute_result"
    }
   ],
   "source": [
    "initOmegas"
   ]
  },
  {
   "cell_type": "code",
   "execution_count": 11,
   "metadata": {},
   "outputs": [
    {
     "data": {
      "text/plain": [
       "array([0., 0.])"
      ]
     },
     "execution_count": 11,
     "metadata": {},
     "output_type": "execute_result"
    }
   ],
   "source": [
    "np.zeros(2)"
   ]
  }
 ],
 "metadata": {
  "kernelspec": {
   "display_name": "Python 3",
   "language": "python",
   "name": "python3"
  },
  "language_info": {
   "codemirror_mode": {
    "name": "ipython",
    "version": 3
   },
   "file_extension": ".py",
   "mimetype": "text/x-python",
   "name": "python",
   "nbconvert_exporter": "python",
   "pygments_lexer": "ipython3",
   "version": "3.6.5"
  }
 },
 "nbformat": 4,
 "nbformat_minor": 2
}

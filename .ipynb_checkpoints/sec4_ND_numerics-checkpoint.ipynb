{
 "cells": [
  {
   "cell_type": "markdown",
   "metadata": {},
   "source": [
    "# About\n",
    "\n",
    "Script to generate the figures pertaining to large-N dimensional numerics. Shows the plots over time for a single trial, and a compiled plot showing where multiple trials converge in terms of asymptotic frequency and variance. Import .mat files generated from 'sec4_ND_numerics.m'."
   ]
  },
  {
   "cell_type": "markdown",
   "metadata": {},
   "source": [
    "# Library"
   ]
  },
  {
   "cell_type": "code",
   "execution_count": 1,
   "metadata": {},
   "outputs": [],
   "source": [
    "from __future__ import division, print_function\n",
    "\n",
    "%matplotlib inline\n",
    "# Toggle on/off\n",
    "# %matplotlib notebook\n",
    "\n",
    "import os\n",
    "import numpy as np\n",
    "import scipy.io as sio\n",
    "from scipy import optimize\n",
    "import scipy.integrate as integrate\n",
    "from scipy import stats\n",
    "import matplotlib.cm as cm\n",
    "import matplotlib.colors as clr\n",
    "import matplotlib.pyplot as plt\n",
    "import matplotlib.transforms as tsfm\n",
    "import math\n",
    "from math import pi\n",
    "\n",
    "from lib import *\n",
    "\n",
    "from IPython.display import clear_output"
   ]
  },
  {
   "cell_type": "markdown",
   "metadata": {},
   "source": [
    "# Directories"
   ]
  },
  {
   "cell_type": "code",
   "execution_count": 2,
   "metadata": {},
   "outputs": [],
   "source": [
    "# Data files (for fig.4d)\n",
    "import_folder = 'sec4_ND_numerics'\n",
    "\n",
    "# Directory\n",
    "dir_main = os.getcwd()\n",
    "dir_im = os.path.join(dir_main, 'matlab', 'data', import_folder)\n",
    "\n",
    "filenames = os.listdir(dir_im)\n",
    "filenames.remove('parameters.mat')"
   ]
  },
  {
   "cell_type": "markdown",
   "metadata": {},
   "source": [
    "# Import data"
   ]
  },
  {
   "cell_type": "markdown",
   "metadata": {},
   "source": [
    "## Parameters"
   ]
  },
  {
   "cell_type": "code",
   "execution_count": 3,
   "metadata": {},
   "outputs": [],
   "source": [
    "dir_par = os.path.join(dir_im, 'parameters.mat')\n",
    "dict_par = sio.loadmat(dir_par)\n",
    "\n",
    "N = dict_par['N'][0,0]\n",
    "g = dict_par['g'][0,0]\n",
    "w0 = dict_par['omega0'][0,0]\n",
    "alphatau = dict_par['alphatau'][0,0]\n",
    "gain = dict_par['gain'][0,0]\n",
    "tau0 = dict_par['tau0'][0,0]\n",
    "t0 = dict_par['t0'][0,0]\n",
    "tf = dict_par['tf'][0,0]\n",
    "epsilon = dict_par['epsilon'][0,0]\n",
    "\n",
    "std_upper = dict_par['L_std'][0,0]\n",
    "freq_upper = dict_par['L_freq'][0,0] * g\n",
    "\n",
    "asy = dict_par['asy'][0,0]\n",
    "\n",
    "logtol = dict_par['logtol'][0,0]\n",
    "rerange = np.reshape(dict_par['rerange'], -1)\n",
    "imrange = np.reshape(dict_par['imrange'], -1)"
   ]
  },
  {
   "cell_type": "markdown",
   "metadata": {},
   "source": [
    "## Theoretical functions\n",
    "\n",
    "Obtain the theoretical curve $\\Omega = \\Omega(\\delta)$ using arcsin, and obtain the optimal deviation $\\delta$."
   ]
  },
  {
   "cell_type": "code",
   "execution_count": 4,
   "metadata": {},
   "outputs": [],
   "source": [
    "# Fixed-point function\n",
    "def Omega_sync(phi, parameters):\n",
    "    '''\n",
    "    Returns the array of potential synchronization frequencies at delta. Uses summation instead of integral.\n",
    "    '''\n",
    "    \n",
    "    # Parameters\n",
    "    g = parameters['g']\n",
    "    w0 = parameters['omega0']\n",
    "    gain = parameters['gain']\n",
    "    tau0 = parameters['tau0']\n",
    "    N = parameters['N']\n",
    "    \n",
    "    # Define root function\n",
    "    # SUM = lambda u: np.sum(np.sin(-u*np.maximum(tau0 + gain*np.sin(phi), np.zeros(phi.shape)) + phi))\n",
    "    Delta = np.subtract.outer(phi, phi)\n",
    "    SUM = lambda u: np.sum(np.sin(-u*np.maximum(tau0 + gain*np.sin(Delta), np.zeros(Delta.shape)) + Delta))\n",
    "    \n",
    "    Omega_fun = lambda u: u - w0 - g*SUM(u) / N**2\n",
    "    \n",
    "    # Determine all Omegas in [w0-g, w0+g]\n",
    "    Omegas = rootlib.root_on_interval(Omega_fun, w0-g, w0+g, steps=500)\n",
    "    \n",
    "    return Omegas\n",
    "\n",
    "    \n",
    "# Least-squared error arcsin fit\n",
    "def arcsin_delta(phi):\n",
    "    '''\n",
    "    Given an array of phases between -pi/2 and pi/2, fit the least squared error for 2*delta/pi*arcsin(phi) and return\n",
    "    optimal delta.\n",
    "    '''\n",
    "    \n",
    "    # Sort and center phi at 0\n",
    "    phi0 = np.sort(phi) - np.mean(phi)\n",
    "    \n",
    "    # Least error function\n",
    "    x_arr = np.linspace(-1,1, phi0.size)\n",
    "    errfun = lambda delta: np.sum((phi0 - delta*np.arcsin(x_arr))**2)\n",
    "    \n",
    "    # Obtain minimal delta\n",
    "    delta_arr = np.linspace(0,1,1000)\n",
    "    err_arr = np.ones(delta_arr.shape)\n",
    "    \n",
    "    for k in range(delta_arr.size):\n",
    "        delta0 = delta_arr[k]\n",
    "        err_arr[k] = errfun(delta0)\n",
    "    \n",
    "    ind_opt = np.argmin(err_arr)\n",
    "    \n",
    "    return delta_arr[ind_opt]"
   ]
  },
  {
   "cell_type": "markdown",
   "metadata": {},
   "source": [
    "## Theoretical arrays\n",
    "\n",
    "Implement functions above to obtain theoretical results and fits on the numerical data."
   ]
  },
  {
   "cell_type": "code",
   "execution_count": 5,
   "metadata": {},
   "outputs": [],
   "source": [
    "# Bifurcation point\n",
    "delta_c = 0.033\n",
    "\n",
    "# Fixed-point function\n",
    "parameters = {'N': N, 'g': g, 'omega0': w0, 'gain': gain, 'tau0': tau0}\n",
    "Omegafun = lambda Omega, delta: funlib.Omega_infty(Omega, delta, parameters, L=2*pi, steps=1000) - Omega\n",
    "\n",
    "# Arrays\n",
    "deltaarr = np.linspace(0,0.2, num=500)\n",
    "\n",
    "# Plot 2 arrays\n",
    "Omega_arr = np.empty((deltaarr.size, 30)) # Padded\n",
    "Omega_arr[:] = np.nan\n",
    "Omega_arr2 = np.zeros(deltaarr.shape)\n",
    "\n",
    "maxRootCount = 0\n",
    "for k in range(deltaarr.size):\n",
    "    \n",
    "    delta = deltaarr[k]\n",
    "    \n",
    "    Omegaerr = lambda u: Omegafun(u, np.sqrt(2)*delta)\n",
    "    Omegaroots2 = rootlib.find_root(Omegaerr, w0, w0-g, w0+g, steps=500)\n",
    "    if Omegaroots2[1]:\n",
    "        Omega_arr2[k] = Omegaroots2[0]\n",
    "        \n",
    "        \n",
    "    phis = delta*np.arcsin(np.linspace(-1,1,N))\n",
    "    \n",
    "    # Obtain array of roots\n",
    "    Omegaroots = Omega_sync(phis, parameters)\n",
    "    \n",
    "    # Sort Omegaroots from smallest to largest\n",
    "    Omegaroots = np.sort(Omegaroots)\n",
    "    \n",
    "    # Add to Omega array\n",
    "    Omega_arr[k,:Omegaroots.size] = Omegaroots\n",
    "    \n",
    "    # Get maximum number of roots\n",
    "    maxRootCount = max(maxRootCount, Omegaroots.size)\n",
    "\n",
    "# Remove padding\n",
    "Omega_arr = Omega_arr[:,:maxRootCount]\n",
    "\n",
    "# Bifurcation point\n",
    "ind_c = np.argmin(np.abs(deltaarr - delta_c))\n",
    "Omega_c = Omega_arr2[ind_c]\n",
    "delta_c = deltaarr[ind_c]"
   ]
  },
  {
   "cell_type": "markdown",
   "metadata": {},
   "source": [
    "## Asymptotic values"
   ]
  },
  {
   "cell_type": "code",
   "execution_count": 6,
   "metadata": {},
   "outputs": [],
   "source": [
    "# Chosen index\n",
    "ind0 = 1\n",
    "\n",
    "# Zero tolerance\n",
    "zeroTol = 0.01\n",
    "\n",
    "# Eigenvalues\n",
    "is_eigs = False\n",
    "\n",
    "# Compiled arrays\n",
    "initOmegas = np.zeros(len(filenames))\n",
    "initstds = np.zeros(len(filenames))\n",
    "asyOmegas = np.zeros(len(filenames))\n",
    "asydeltas = np.zeros(len(filenames))\n",
    "asyPhis = np.zeros((N,len(filenames)))\n",
    "\n",
    "maxReEigs = np.zeros(len(filenames))\n",
    "maxErrs = np.zeros(len(filenames))\n",
    "\n",
    "for i in range(len(filenames)):\n",
    "    \n",
    "    # Import .mat file\n",
    "    filename = filenames[i]\n",
    "    dir_mat = os.path.join(dir_im, filename)\n",
    "    dict_mat =  sio.loadmat(dir_mat)\n",
    "    \n",
    "    # Get g, tau0 indices\n",
    "    ind_file = filename.split('.')[0]\n",
    "    ind = int(ind_file)\n",
    "    \n",
    "    # Compile solution dictionary\n",
    "    sol = {'t': np.reshape(dict_mat['t'], -1),\n",
    "           'y': dict_mat['y'],\n",
    "           'yp': dict_mat['yp'],\n",
    "           'tau': dict_mat['tau'],\n",
    "           'taup': dict_mat['taup']\n",
    "          }\n",
    "    \n",
    "    initOmega = dict_mat['hist_freq'][0,0]\n",
    "    initstd = dict_mat['hist_std'][0,0]\n",
    "    \n",
    "    asyOmega = dict_mat['Omega_asy'][0,0]\n",
    "    asyPhases = np.reshape(dict_mat['phases_asy'], -1)\n",
    "    \n",
    "    arrlinear = asyOmega*sol['t']\n",
    "    arrlinear = arrlinear[:,None]\n",
    "    arrphases = sol['y'] - arrlinear\n",
    "    \n",
    "    # asydelta = arcsin_delta(asyPhases)\n",
    "    asydelta = np.sqrt(np.var(asyPhases))\n",
    "    \n",
    "    # Eigenvalues\n",
    "    if is_eigs:\n",
    "        eigs = np.reshape(dict_mat['eigs'], -1)\n",
    "        eigs_nonzero = eigs[np.abs(eigs) > zeroTol]\n",
    "        maxReEig = np.max(eigs_nonzero.real)\n",
    "        errs = np.reshape(dict_mat['errors'], -1)\n",
    "        maxErr = np.max(np.abs(errs))\n",
    "    \n",
    "    \n",
    "    # If equal to an index, store the eigenvalue distribution\n",
    "    if ind == ind0:\n",
    "        sol0 = sol.copy()\n",
    "        arrphases0 = arrphases\n",
    "        asyOmega0 = asyOmega\n",
    "        asyPhases0 = asyPhases\n",
    "        asydelta0 = asydelta\n",
    "        initOmega0 = initOmega\n",
    "        initstd0 = initstd\n",
    "    \n",
    "    # Process asymptotic phases\n",
    "    asyPhases = asylib.mod_pi(asyPhases)\n",
    "    asyPhases = np.sort(asyPhases)\n",
    "    asyPhases = asyPhases - np.mean(asyPhases)\n",
    "    \n",
    "    # Store other values\n",
    "    initOmegas[i] = initOmega\n",
    "    initstds[i] = initstd\n",
    "    asyOmegas[i] = asyOmega\n",
    "    asydeltas[i] = asydelta\n",
    "    asyPhis[:,i] = asyPhases\n",
    "    \n",
    "    if is_eigs:\n",
    "        maxReEigs[i] = maxReEig\n",
    "        maxErrs[i] = maxErr\n",
    "    \n",
    "# Compute asyDeltas\n",
    "asyDeltas0 = asyPhases0[:,np.newaxis] - asyPhases0\n",
    "asyDeltas0 = np.reshape(asyDeltas0, -1)\n",
    "\n",
    "# Gaussian curve fit\n",
    "GaussFun = lambda x: (np.sqrt(4*pi*asydelta0**2))**(-1)*np.exp(-x**2/(4*asydelta0**2))\n",
    "Deltas_arr = np.linspace(-pi, pi, num=1000)\n",
    "Gauss_arr = GaussFun(Deltas_arr)\n",
    "BINS = np.linspace(-pi/4, pi/4, num=50)"
   ]
  },
  {
   "cell_type": "markdown",
   "metadata": {},
   "source": [
    "# Plot"
   ]
  },
  {
   "cell_type": "markdown",
   "metadata": {},
   "source": [
    "## Options"
   ]
  },
  {
   "cell_type": "code",
   "execution_count": 7,
   "metadata": {},
   "outputs": [],
   "source": [
    "bbox0 = [0.10, 0.7, 0.3, 0.20]  # Fig 2a: Derivative plots\n",
    "bbox1 = [0.10, 0.4, 0.3, 0.20]  # Fig 2b: sin(phase) plots\n",
    "bbox2 = [0.10, 0.1, 0.3, 0.20] # Fig 2c: Delay plots\n",
    "bbox3 = [0.50, 0.1, 0.40, 0.5] # Fig 2e: Iterated trial plot\n",
    "bbox4 = [0.50, 0.7, 0.40, 0.2] # Fig 2d: Histogram plot with Gaussian fit\n",
    "\n",
    "# Figures A, B, C\n",
    "linewidth1 = 1.2\n",
    "alpha1 = 0.4\n",
    "\n",
    "t0 = np.min(sol['t'])\n",
    "tf = np.max(sol['t'])\n",
    "\n",
    "# Linear array\n",
    "phi_linear = 2*pi*np.arange(0,N)/N\n",
    "\n",
    "# Histogram\n",
    "lw_gauss = 1.0\n",
    "col_gauss = 'blue'\n",
    "\n",
    "lw_hist = 1.0\n",
    "col_hist = 'orange'\n",
    "alpha_hist = 0.5\n",
    "col_hist2 = clr.to_rgba(col_hist, alpha=alpha_hist)\n",
    "\n",
    "# Sample\n",
    "num_inds = 50\n",
    "inds = np.random.choice(np.arange(N**2-1), size=num_inds, replace=False)"
   ]
  },
  {
   "cell_type": "markdown",
   "metadata": {},
   "source": [
    "## Generate figures"
   ]
  },
  {
   "cell_type": "code",
   "execution_count": 8,
   "metadata": {},
   "outputs": [
    {
     "data": {
      "text/plain": [
       "<matplotlib.lines.Line2D at 0x1b37f26a828>"
      ]
     },
     "execution_count": 8,
     "metadata": {},
     "output_type": "execute_result"
    },
    {
     "data": {
      "image/png": "[encoded data removed]",
      "text/plain": [
       "<Figure size 960x640 with 5 Axes>"
      ]
     },
     "metadata": {},
     "output_type": "display_data"
    }
   ],
   "source": [
    "fig, ax = plt.subplots(5, figsize=(12,8), dpi=80)\n",
    "\n",
    "# Set positions\n",
    "ax[0].set_position(bbox0)\n",
    "ax[1].set_position(bbox1)\n",
    "ax[2].set_position(bbox2)\n",
    "ax[3].set_position(bbox3)\n",
    "ax[4].set_position(bbox4)\n",
    "\n",
    "# Figures A, B, C (single trial)\n",
    "ax[0].plot(sol0['t'], sol0['yp'], linewidth=linewidth1, alpha=alpha1, zorder=2)\n",
    "ax[1].plot(sol0['t'], np.sin(arrphases0), linewidth=linewidth1, alpha=alpha1, zorder=2)\n",
    "ax[2].plot(sol0['t'], sol0['tau'][:,inds], linewidth=linewidth1, alpha=alpha1, zorder=2)\n",
    "\n",
    "# Figure D\n",
    "ax[4].hist(asyDeltas0, bins=BINS, density=True, color=col_hist2, edgecolor=col_hist, linewidth=lw_hist, zorder=1)\n",
    "ax[4].plot(Deltas_arr, Gauss_arr, color=col_gauss, linewidth=lw_gauss, zorder=2) \n",
    "ax[4].set_xticks(np.array([-pi/4, -pi/8, 0, pi/4, pi/8]))\n",
    "ax[4].set_xticklabels([r'$-\\pi / 4$', r'$-\\pi / 8$', '0', r'$\\pi / 8$', r'$\\pi / 4$'])\n",
    "# Figure E\n",
    "ax[3].plot(deltaarr, Omega_arr2)\n",
    "ax[3].scatter(delta_c, Omega_c, color='red', zorder=2)\n",
    "# ax[3].scatter(initstds, initOmegas, color='blue', zorder=2)\n",
    "ax[3].scatter(asydeltas, asyOmegas, color='orange', s=20, zorder=2)\n",
    "\n",
    "\n",
    "# for k in range(initOmegas.size):\n",
    "    # p1 = np.array([initOmegas[k], asyOmegas[k]])\n",
    "    # p2 = np.array([initstds[k], asydeltas[k]])\n",
    "    # ax[3].plot(p2, p1, color='black', linewidth=0.5, zorder=1)\n",
    "    \n",
    "# Edit plots\n",
    "tf_show = tf/5\n",
    "ax[0].set_xlim(left=t0, right=tf_show)\n",
    "ax[1].set_xlim(left=t0, right=tf_show)\n",
    "ax[2].set_xlim(left=t0, right=tf_show)\n",
    "ax[3].set_xlim(left=0, right=0.15)\n",
    "ax[4].set_xlim(left=-pi/4, right=pi/4)\n",
    "\n",
    "ax[0].axhline(y=w0, color='green', alpha=0.8, linewidth=1.5)\n",
    "ax[3].axhline(y=w0, color='green', alpha=0.8, linewidth=1.5)\n",
    "ax[3].axvline(x=0, color='black', alpha=0.8, linewidth=0.5)\n",
    "ax[3].axvline(x=delta_c, color='red', alpha=0.8, linewidth=1.0)\n",
    "ax[4].axvline(x=0, color='black', alpha=0.5, linewidth=0.5)"
   ]
  },
  {
   "cell_type": "markdown",
   "metadata": {},
   "source": [
    "# Statistics"
   ]
  },
  {
   "cell_type": "code",
   "execution_count": 9,
   "metadata": {},
   "outputs": [
    {
     "name": "stdout",
     "output_type": "stream",
     "text": [
      "Asymptotic frequency = 0.8629069570255054\n",
      "Asymptotic std = 0.03047905197142943\n",
      "Initial Omega = 1.0889895570594907\n",
      "Initial std = 0.369895920490658\n",
      "{'N': 40, 'g': 1.5, 'omega0': 1, 'gain': 80, 'tau0': 0.1}\n"
     ]
    }
   ],
   "source": [
    "print(f'Asymptotic frequency = {asyOmega0}\\n\\\n",
    "Asymptotic std = {asydelta0}\\n\\\n",
    "Initial Omega = {initOmega0}\\n\\\n",
    "Initial std = {initstd0}')\n",
    "print(parameters)"
   ]
  },
  {
   "cell_type": "code",
   "execution_count": 10,
   "metadata": {},
   "outputs": [
    {
     "data": {
      "text/plain": [
       "0.749783420440081"
      ]
     },
     "execution_count": 10,
     "metadata": {},
     "output_type": "execute_result"
    }
   ],
   "source": [
    "phi = asyPhis[:,1]\n",
    "Omega0 = asyOmega0\n",
    "# Omega0 = 0.72899254\n",
    "Delta = np.subtract.outer(phi, phi).T\n",
    "SUM = np.sum(np.sin(-Omega0*np.maximum(tau0 + gain*np.sin(Delta), np.zeros(Delta.shape)) + Delta))\n",
    "w0 + g*SUM / N**2"
   ]
  },
  {
   "cell_type": "code",
   "execution_count": 11,
   "metadata": {},
   "outputs": [
    {
     "data": {
      "text/plain": [
       "(array([0.02875299, 0.03047905, 0.03087468, 0.03752901, 0.02673031,\n",
       "        0.04341423, 0.03292628, 0.06913453, 0.03403195, 0.05526255]),\n",
       " array([0.87581632, 0.86290696, 0.86042465, 0.85799808, 0.88100687,\n",
       "        0.85405655, 0.85565926, 0.82442285, 0.84775494, 0.85312621]))"
      ]
     },
     "execution_count": 11,
     "metadata": {},
     "output_type": "execute_result"
    }
   ],
   "source": [
    "asydeltas, asyOmegas"
   ]
  },
  {
   "cell_type": "code",
   "execution_count": 12,
   "metadata": {},
   "outputs": [
    {
     "data": {
      "text/plain": [
       "(array([1.12954525, 1.08898956, 0.63013457, 1.18016914, 1.36880161,\n",
       "        0.72113602, 0.89543707, 0.76830495, 1.16079825, 0.75840026]),\n",
       " array([0.20816593, 0.36989592, 0.4464774 , 0.01292665, 0.06878151,\n",
       "        0.21204372, 0.38228339, 0.26221859, 0.37724068, 0.08489922]))"
      ]
     },
     "execution_count": 12,
     "metadata": {},
     "output_type": "execute_result"
    }
   ],
   "source": [
    "initOmegas, initstds"
   ]
  },
  {
   "cell_type": "code",
   "execution_count": null,
   "metadata": {},
   "outputs": [],
   "source": []
  }
 ],
 "metadata": {
  "kernelspec": {
   "display_name": "Python 3",
   "language": "python",
   "name": "python3"
  },
  "language_info": {
   "codemirror_mode": {
    "name": "ipython",
    "version": 3
   },
   "file_extension": ".py",
   "mimetype": "text/x-python",
   "name": "python",
   "nbconvert_exporter": "python",
   "pygments_lexer": "ipython3",
   "version": "3.6.5"
  }
 },
 "nbformat": 4,
 "nbformat_minor": 2
}

{
 "cells": [
  {
   "cell_type": "markdown",
   "metadata": {},
   "source": [
    "# About\n",
    "\n",
    "This script generates the numerical plots for the 2-dim Kuramoto system with adaptive delays, with a single initial point.\n",
    "The purpose is to provide detailed plots of a single trial's frequency, phase difference, and delay values over time. In addition, we fix the initial condition of two trials and decrease the time scale $\\alpha_\\tau$ and see how it affects the equilibrium value.\n",
    "\n",
    "All trials are performed in MATLAB. The MATLAB script is found in 'sec4_2D_numerics1.mat'"
   ]
  },
  {
   "cell_type": "markdown",
   "metadata": {},
   "source": [
    "# Library"
   ]
  },
  {
   "cell_type": "code",
   "execution_count": 1,
   "metadata": {},
   "outputs": [],
   "source": [
    "from __future__ import division, print_function\n",
    "\n",
    "%matplotlib inline\n",
    "# Toggle on/off\n",
    "# %matplotlib notebook\n",
    "\n",
    "import os\n",
    "import numpy as np\n",
    "import scipy.io as sio\n",
    "from scipy import optimize\n",
    "import matplotlib.pyplot as plt\n",
    "from mpl_toolkits.mplot3d import Axes3D\n",
    "import matplotlib.transforms as tsfm\n",
    "import math\n",
    "from math import pi\n",
    "\n",
    "from lib import *\n",
    "\n",
    "from IPython.display import clear_output"
   ]
  },
  {
   "cell_type": "markdown",
   "metadata": {},
   "source": [
    "# Directories"
   ]
  },
  {
   "cell_type": "code",
   "execution_count": 2,
   "metadata": {},
   "outputs": [],
   "source": [
    "# Data files from Matlab\n",
    "import_folder = 'sec4_2D_numerics2' # 'sec4_2D_numerics1'\n",
    "\n",
    "# Directory\n",
    "dir_main = os.getcwd()\n",
    "dir_im = os.path.join(dir_main, 'matlab', 'data', import_folder)\n",
    "\n",
    "filenames = os.listdir(dir_im)"
   ]
  },
  {
   "cell_type": "markdown",
   "metadata": {},
   "source": [
    "# Import and compile data"
   ]
  },
  {
   "cell_type": "markdown",
   "metadata": {},
   "source": [
    "## Parameters"
   ]
  },
  {
   "cell_type": "code",
   "execution_count": 3,
   "metadata": {},
   "outputs": [],
   "source": [
    "dir_sam = os.path.join(dir_im, filenames[0])\n",
    "dict_mat = sio.loadmat(dir_sam)\n",
    "\n",
    "param = {'g': dict_mat['g'][0,0],\n",
    "         'omega0': dict_mat['omega0'][0,0],\n",
    "         'gain': dict_mat['gain'][0,0],\n",
    "         'tau0': dict_mat['tau0'][0,0],\n",
    "         }\n",
    "\n",
    "# Initial conditions\n",
    "Omega0 = dict_mat['Omega0'][0,0]\n",
    "Delta0 = dict_mat['Delta0'][0,0]\n",
    "\n",
    "# Choose which alphatau trial to plot\n",
    "\n",
    "# Asymptotic percentage\n",
    "asy = 0.1"
   ]
  },
  {
   "cell_type": "markdown",
   "metadata": {},
   "source": [
    "## Asymptotic values"
   ]
  },
  {
   "cell_type": "code",
   "execution_count": 4,
   "metadata": {},
   "outputs": [],
   "source": [
    "def process_folder(directory, alphatau=1.0, asy=0.1):\n",
    "    '''\n",
    "    Processes the .mat files in the folder, and returns the asymptotic arrays and detailed arrays of the chosen trial.\n",
    "    '''\n",
    "    \n",
    "    # Get filenames in directory\n",
    "    filenames = os.listdir(directory)\n",
    "    \n",
    "    asy_Omegas = np.zeros(len(filenames))\n",
    "    asy_Deltas = np.zeros(len(filenames))\n",
    "    var_Omegas = np.zeros(len(filenames))\n",
    "    var_phases = np.zeros(len(filenames))\n",
    "    alphataus = np.zeros(len(filenames))\n",
    "    \n",
    "    # Output dictionary\n",
    "    output = {}\n",
    "    \n",
    "    # Distance from current alphatau to plotted alphatau\n",
    "    MIN_DIFF = 100\n",
    "    \n",
    "    for i in range(len(filenames)):\n",
    "\n",
    "        # Import .mat file\n",
    "        dir_mat = os.path.join(directory, filenames[i])\n",
    "        dict_mat = sio.loadmat(dir_mat)\n",
    "\n",
    "        # Compile solution dictionary\n",
    "        sol = {'t': np.reshape(dict_mat['t'], -1),\n",
    "               'y': dict_mat['y'],\n",
    "               'yp': dict_mat['yp'],\n",
    "               'tau': dict_mat['tau'],\n",
    "               'taup': dict_mat['taup']\n",
    "              }\n",
    "        \n",
    "        # Compute the global frequency:\n",
    "        arr_omega = asylib.weight_avg(sol['t'], sol['yp'], asy)\n",
    "        asy_Omega = np.sum(arr_omega) / arr_omega.size\n",
    "        var_Omega = np.average(asylib.weight_avg(sol['t'], (sol['yp'] - asy_Omega)**2, asy))\n",
    "\n",
    "        # Get array of asymptotic phases:\n",
    "        lineararr = asy_Omega*sol['t']\n",
    "        lineararr = lineararr[:,None]\n",
    "\n",
    "        arr_phases = sol['y'] - lineararr\n",
    "        asy_phases = asylib.weight_avg(sol['t'], arr_phases, asy)\n",
    "        asy_Delta = np.abs(asy_phases[1] - asy_phases[0])\n",
    "\n",
    "        # Variance\n",
    "        var_phase = np.average(asylib.weight_avg(sol['t'], (arr_phases - asy_phases)**2, asy))\n",
    "\n",
    "        # Compare alphatau\n",
    "        \n",
    "        alphatau_current = dict_mat['alphatau'][0,0]\n",
    "        diff = np.abs(np.log10(alphatau_current) - np.log10(alphatau))\n",
    "        \n",
    "        if diff < MIN_DIFF:\n",
    "            MIN_DIFF = diff\n",
    "            output['sol'] = sol.copy()\n",
    "            output['alphatau'] = alphatau_current\n",
    "            output['ydiff'] = arr_phases\n",
    "            output['asy_Omega'] = asy_Omega\n",
    "            output['asy_Delta'] = asy_Delta\n",
    "            \n",
    "        # SAVE TO ARRAYS\n",
    "        asy_Omegas[i] = asy_Omega\n",
    "        asy_Deltas[i] = asy_Delta\n",
    "        var_Omegas[i] = var_Omega\n",
    "        var_phases[i] = var_phase\n",
    "        alphataus[i] = alphatau_current\n",
    "    \n",
    "    # Sort over descending alphas:\n",
    "    alphataulog = -np.log10(alphataus)\n",
    "    inds = np.argsort(alphataulog)\n",
    "    \n",
    "    output['asy_Omegas'] = asy_Omegas[inds]\n",
    "    output['asy_Deltas'] = asy_Deltas[inds]\n",
    "    output['var_Omegas'] = var_Omegas[inds]\n",
    "    output['var_phases'] = var_phases[inds]\n",
    "    output['alphataus'] = alphataus[inds]\n",
    "    output['alphalogs'] = alphataulog[inds]\n",
    "    \n",
    "    return output"
   ]
  },
  {
   "cell_type": "markdown",
   "metadata": {},
   "source": [
    "## Theoretical asymptotic values"
   ]
  },
  {
   "cell_type": "code",
   "execution_count": 5,
   "metadata": {},
   "outputs": [],
   "source": [
    "Omegafun = funlib.Omega2D(param)\n",
    "\n",
    "w0 = param['omega0']\n",
    "g = param['g']\n",
    "\n",
    "# Get all roots of Omega_fun in region\n",
    "Omegaroots = rootlib.root_on_interval(Omegafun, w0-g, w0+g, steps=1000)"
   ]
  },
  {
   "cell_type": "markdown",
   "metadata": {},
   "source": [
    "## Configure arrays"
   ]
  },
  {
   "cell_type": "code",
   "execution_count": 6,
   "metadata": {},
   "outputs": [],
   "source": [
    "tr1 = process_folder(dir_im, alphatau=10**(-1.25), asy=0.1)\n",
    "\n",
    "tarr1 = tr1['sol']['t']\n",
    "yparr1 = tr1['sol']['yp']\n",
    "yarr1 = tr1['ydiff']\n",
    "tauarr1 = tr1['sol']['tau']"
   ]
  },
  {
   "cell_type": "markdown",
   "metadata": {},
   "source": [
    "# Plot"
   ]
  },
  {
   "cell_type": "markdown",
   "metadata": {},
   "source": [
    "## Options"
   ]
  },
  {
   "cell_type": "code",
   "execution_count": 7,
   "metadata": {},
   "outputs": [],
   "source": [
    "# Plot positions [left, bottom, width, height] \n",
    "bbox0 = [0.15, 0.7, 0.35, 0.20]  # Fig 2a: Derivative plots\n",
    "bbox1 = [0.15, 0.4, 0.35, 0.20]  # Fig 2b: sin(phase) plots\n",
    "bbox2 = [0.15, 0.1, 0.35, 0.20] # Fig 2c: Delay plots\n",
    "bbox3 = [0.60, 0.1, 0.35, 0.35] # Fig 2d: Plot of log alphatau vs. convergence frequency\n",
    "bbox4 = [0.60, 0.55, 0.35, 0.35] # Fig 2e: Plot of log alphatau vs. variance\n",
    "\n",
    "# bbox3 = [0.60, 0.1, 0.45, 0.8] \n",
    "\n",
    "# Line options\n",
    "options_w0 = {'color': 'green',\n",
    "              'linewidth': 0.5,\n",
    "              'alpha': 0.8,\n",
    "              }\n",
    "\n",
    "options_asy = {'color': 'orange',\n",
    "               'linewidth': 0.5,\n",
    "               'alpha': 0.8,\n",
    "               }\n",
    "\n",
    "# Plot function\n",
    "def plot_sol(ax1, ax2, ax3, t, y, yp, tau, trial=1):\n",
    "    '''\n",
    "    Plots the frequency, phase diff, delay arrays to ax1, ax2, ax3 respectively. Uses different options for trials 1 or 2\n",
    "    '''\n",
    "    \n",
    "    # Line options\n",
    "    ls1 = (0, (5,1))\n",
    "    ls2 = (1, (1,1))\n",
    "    alpha = 0.9\n",
    "    \n",
    "    if trial == 1:\n",
    "        color = 'blue'\n",
    "    else:\n",
    "        color = 'orange'\n",
    "    \n",
    "    ax1.plot(t, yp[:,0], color=color, linestyle=ls1, alpha=alpha, zorder=1)\n",
    "    ax2.plot(t, np.sin(y[:,0]), color=color, linestyle=ls1, alpha=alpha, zorder=1)\n",
    "    ax3.plot(t, tau[:,0], color=color, linestyle=ls1, alpha=alpha, zorder=1)\n",
    "               \n",
    "    ax1.plot(t, yp[:,1], color=color, linestyle=ls2, alpha=alpha, zorder=1)\n",
    "    ax2.plot(t, np.sin(y[:,1]), color=color, linestyle=ls2, alpha=alpha, zorder=1)\n",
    "    ax3.plot(t, tau[:,1], color=color, linestyle=ls2, alpha=alpha, zorder=1) \n",
    "    \n",
    "    # Adjust the plots\n",
    "    tmin = np.min(t)\n",
    "    tmax = np.max(t)\n",
    "    \n",
    "    ax1.set_xlim(left=tmin, right=tmax)\n",
    "    ax2.set_xlim(left=tmin, right=tmax)\n",
    "    ax3.set_xlim(left=tmin, right=tmax)"
   ]
  },
  {
   "cell_type": "markdown",
   "metadata": {},
   "source": [
    "## Generate figure"
   ]
  },
  {
   "cell_type": "code",
   "execution_count": 8,
   "metadata": {},
   "outputs": [
    {
     "data": {
      "text/plain": [
       "(0, 1.1)"
      ]
     },
     "execution_count": 8,
     "metadata": {},
     "output_type": "execute_result"
    },
    {
     "data": {
      "image/png": "[encoded data removed]",
      "text/plain": [
       "<Figure size 960x640 with 5 Axes>"
      ]
     },
     "metadata": {},
     "output_type": "display_data"
    }
   ],
   "source": [
    "fig, ax = plt.subplots(5, figsize=(12,8), dpi=80)\n",
    "\n",
    "# Set positions\n",
    "ax[0].set_position(bbox0)\n",
    "ax[1].set_position(bbox1)\n",
    "ax[2].set_position(bbox2)\n",
    "ax[3].set_position(bbox3)\n",
    "ax[4].set_position(bbox4)\n",
    "\n",
    "# Trial 1:\n",
    "plot_sol(ax[0], ax[1], ax[2], tarr1, yarr1, yparr1, tauarr1, trial=1)\n",
    "\n",
    "# Trial 2:\n",
    "# plot_sol(ax[0], ax[1], ax[2], tarr2, yarr2, yparr2, tauarr2, trial=2)\n",
    "\n",
    "# Var. frequency + phases vs. logalphatau\n",
    "ax[3].plot(tr1['alphalogs'], np.log10(tr1['var_Omegas']), marker='o')\n",
    "ax[3].plot(tr1['alphalogs'], np.log10(tr1['var_phases']), marker='o')\n",
    "\n",
    "# Convergence frequency vs. logalphatau\n",
    "ax[4].plot(tr1['alphalogs'], tr1['asy_Omegas'], marker='o')\n",
    "\n",
    "# Plot horizontal lines\n",
    "ax[0].axhline(y=w0, zorder=0, **options_w0)\n",
    "ax[4].axhline(y=w0, zorder=1, **options_w0)\n",
    "\n",
    "for omega in Omegaroots:\n",
    "    ax[4].axhline(y=omega, zorder=0, **options_asy)\n",
    "    \n",
    "# Adjust\n",
    "ax[4].set_ylim(bottom=0, top=1.1*w0)"
   ]
  },
  {
   "cell_type": "code",
   "execution_count": 9,
   "metadata": {},
   "outputs": [
    {
     "name": "stdout",
     "output_type": "stream",
     "text": [
      "Statistics: \n",
      " alphatau = 0.01 \n",
      " Omega0 = 0.8 \n",
      " Delta0 = 0.5\n",
      "asy Omega = 0.288284709144499 \n",
      "asy Delta = 1.249529082885438\n"
     ]
    }
   ],
   "source": [
    "X = tr1['alphatau']\n",
    "asyOmega = tr1['asy_Omega']\n",
    "asyDelta = tr1['asy_Delta']\n",
    "print(f'Statistics: \\n alphatau = {X} \\n Omega0 = {Omega0} \\n Delta0 = {Delta0}')\n",
    "print(f'asy Omega = {asyOmega} \\nasy Delta = {asyDelta}')"
   ]
  },
  {
   "cell_type": "code",
   "execution_count": null,
   "metadata": {},
   "outputs": [],
   "source": []
  }
 ],
 "metadata": {
  "kernelspec": {
   "display_name": "Python 3",
   "language": "python",
   "name": "python3"
  },
  "language_info": {
   "codemirror_mode": {
    "name": "ipython",
    "version": 3
   },
   "file_extension": ".py",
   "mimetype": "text/x-python",
   "name": "python",
   "nbconvert_exporter": "python",
   "pygments_lexer": "ipython3",
   "version": "3.6.5"
  }
 },
 "nbformat": 4,
 "nbformat_minor": 2
}
